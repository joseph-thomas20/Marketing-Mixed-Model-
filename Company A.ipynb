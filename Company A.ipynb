{
 "cells": [
  {
   "cell_type": "code",
   "execution_count": 33,
   "id": "44b055b3",
   "metadata": {},
   "outputs": [],
   "source": [
    "import pandas as pd\n",
    "import matplotlib.pyplot as plt\n",
    "import numpy as np\n",
    "import seaborn as sns\n",
    "from sklearn.decomposition import PCA\n",
    "from patsy import dmatrices\n",
    "import statsmodels.formula.api as sm\n",
    "from statsmodels.stats.outliers_influence import variance_inflation_factor\n",
    "import math\n",
    "from sklearn.metrics import mean_squared_error as mse\n",
    "from sklearn.metrics import mean_absolute_percentage_error as mape\n",
    "import matplotlib.pyplot as plt\n",
    "from matplotlib.pyplot import legend, figure"
   ]
  },
  {
   "cell_type": "markdown",
   "id": "4b3fa0af",
   "metadata": {},
   "source": [
    "### Here you will find: \n",
    "\n",
    "- Initial data summary\n",
    "- Multivariable linear regression assumption test.\n",
    "- Feature Importance\n",
    "- MMM with daily data\n",
    "- MMM with Weekly data.\n",
    "- Log-log model."
   ]
  },
  {
   "cell_type": "markdown",
   "id": "3f71c2d2",
   "metadata": {},
   "source": [
    "## Data Summary"
   ]
  },
  {
   "cell_type": "code",
   "execution_count": 34,
   "id": "c1d8cd6d",
   "metadata": {},
   "outputs": [
    {
     "name": "stderr",
     "output_type": "stream",
     "text": [
      "/var/folders/k2/8mbjx2mx4jg3bkxxj6m1xbs40000gn/T/ipykernel_17377/1206350869.py:13: FutureWarning: weekofyear and week have been deprecated, please use DatetimeIndex.isocalendar().week instead, which returns a Series.  To exactly reproduce the behavior of week and weekofyear and return an Index, you may call pd.Int64Index(idx.isocalendar().week)\n",
      "  df['WeekNumber'] = pd.DatetimeIndex(df['Date']).week\n"
     ]
    },
    {
     "data": {
      "text/html": [
       "<div>\n",
       "<style scoped>\n",
       "    .dataframe tbody tr th:only-of-type {\n",
       "        vertical-align: middle;\n",
       "    }\n",
       "\n",
       "    .dataframe tbody tr th {\n",
       "        vertical-align: top;\n",
       "    }\n",
       "\n",
       "    .dataframe thead th {\n",
       "        text-align: right;\n",
       "    }\n",
       "</style>\n",
       "<table border=\"1\" class=\"dataframe\">\n",
       "  <thead>\n",
       "    <tr style=\"text-align: right;\">\n",
       "      <th></th>\n",
       "      <th>Date</th>\n",
       "      <th>Facebook BA</th>\n",
       "      <th>Facebook SA</th>\n",
       "      <th>Google</th>\n",
       "      <th>Microsoft</th>\n",
       "      <th>Pin BW</th>\n",
       "      <th>Revenue</th>\n",
       "      <th>Year</th>\n",
       "      <th>Month</th>\n",
       "      <th>Year_Month</th>\n",
       "      <th>WeekNumber</th>\n",
       "    </tr>\n",
       "  </thead>\n",
       "  <tbody>\n",
       "    <tr>\n",
       "      <th>0</th>\n",
       "      <td>2019-04-20</td>\n",
       "      <td>49.76</td>\n",
       "      <td>16.55</td>\n",
       "      <td>734.64</td>\n",
       "      <td>NaN</td>\n",
       "      <td>NaN</td>\n",
       "      <td>12239.69</td>\n",
       "      <td>2019</td>\n",
       "      <td>4</td>\n",
       "      <td>2019-4</td>\n",
       "      <td>16</td>\n",
       "    </tr>\n",
       "    <tr>\n",
       "      <th>1</th>\n",
       "      <td>2019-04-21</td>\n",
       "      <td>45.63</td>\n",
       "      <td>16.54</td>\n",
       "      <td>797.93</td>\n",
       "      <td>NaN</td>\n",
       "      <td>NaN</td>\n",
       "      <td>5775.28</td>\n",
       "      <td>2019</td>\n",
       "      <td>4</td>\n",
       "      <td>2019-4</td>\n",
       "      <td>16</td>\n",
       "    </tr>\n",
       "    <tr>\n",
       "      <th>2</th>\n",
       "      <td>2019-04-22</td>\n",
       "      <td>47.32</td>\n",
       "      <td>16.61</td>\n",
       "      <td>1153.88</td>\n",
       "      <td>NaN</td>\n",
       "      <td>NaN</td>\n",
       "      <td>12114.80</td>\n",
       "      <td>2019</td>\n",
       "      <td>4</td>\n",
       "      <td>2019-4</td>\n",
       "      <td>17</td>\n",
       "    </tr>\n",
       "    <tr>\n",
       "      <th>3</th>\n",
       "      <td>2019-04-23</td>\n",
       "      <td>47.64</td>\n",
       "      <td>16.54</td>\n",
       "      <td>837.82</td>\n",
       "      <td>NaN</td>\n",
       "      <td>NaN</td>\n",
       "      <td>13504.72</td>\n",
       "      <td>2019</td>\n",
       "      <td>4</td>\n",
       "      <td>2019-4</td>\n",
       "      <td>17</td>\n",
       "    </tr>\n",
       "    <tr>\n",
       "      <th>4</th>\n",
       "      <td>2019-04-24</td>\n",
       "      <td>47.89</td>\n",
       "      <td>16.89</td>\n",
       "      <td>822.67</td>\n",
       "      <td>NaN</td>\n",
       "      <td>NaN</td>\n",
       "      <td>8179.32</td>\n",
       "      <td>2019</td>\n",
       "      <td>4</td>\n",
       "      <td>2019-4</td>\n",
       "      <td>17</td>\n",
       "    </tr>\n",
       "  </tbody>\n",
       "</table>\n",
       "</div>"
      ],
      "text/plain": [
       "        Date  Facebook BA  Facebook SA   Google  Microsoft  Pin BW   Revenue  \\\n",
       "0 2019-04-20        49.76        16.55   734.64        NaN     NaN  12239.69   \n",
       "1 2019-04-21        45.63        16.54   797.93        NaN     NaN   5775.28   \n",
       "2 2019-04-22        47.32        16.61  1153.88        NaN     NaN  12114.80   \n",
       "3 2019-04-23        47.64        16.54   837.82        NaN     NaN  13504.72   \n",
       "4 2019-04-24        47.89        16.89   822.67        NaN     NaN   8179.32   \n",
       "\n",
       "   Year  Month Year_Month  WeekNumber  \n",
       "0  2019      4     2019-4          16  \n",
       "1  2019      4     2019-4          16  \n",
       "2  2019      4     2019-4          17  \n",
       "3  2019      4     2019-4          17  \n",
       "4  2019      4     2019-4          17  "
      ]
     },
     "execution_count": 34,
     "metadata": {},
     "output_type": "execute_result"
    }
   ],
   "source": [
    "# Load the model data\n",
    "df = pd.read_csv('AMMMTable.csv',dtype={\n",
    "    'Revenue': np.float64,\n",
    "    'Facebook BA': np.float64,\n",
    "    'Facebook SA': np.float64,\n",
    "    'Google': np.float64,\n",
    "    'Microsoft': np.float64,\n",
    "    'Pin BW': np.float64,\n",
    "}, parse_dates=['Date'])\n",
    "df['Year'] = pd.DatetimeIndex(df['Date']).year\n",
    "df['Month'] = pd.DatetimeIndex(df['Date']).month\n",
    "df['Year_Month'] = df['Year'].astype(str) + '-' + df['Month'].astype(str)\n",
    "df['WeekNumber'] = pd.DatetimeIndex(df['Date']).week\n",
    "df.head()"
   ]
  },
  {
   "cell_type": "code",
   "execution_count": 35,
   "id": "418b6682",
   "metadata": {},
   "outputs": [
    {
     "data": {
      "image/png": "[encoded data removed]",
      "text/plain": [
       "<Figure size 800x400 with 1 Axes>"
      ]
     },
     "metadata": {
      "needs_background": "light"
     },
     "output_type": "display_data"
    }
   ],
   "source": [
    "figure(figsize=(10, 5), dpi=80)\n",
    "plt.plot(df['Date'], df['Revenue'], marker='o')\n",
    "plt.show()"
   ]
  },
  {
   "cell_type": "markdown",
   "id": "d6eb8695",
   "metadata": {},
   "source": [
    "## Data Quality and Analysis"
   ]
  },
  {
   "cell_type": "markdown",
   "id": "ea6021c7",
   "metadata": {},
   "source": [
    "### NaN Values"
   ]
  },
  {
   "cell_type": "code",
   "execution_count": 37,
   "id": "19eb1a77",
   "metadata": {},
   "outputs": [
    {
     "name": "stderr",
     "output_type": "stream",
     "text": [
      "/var/folders/k2/8mbjx2mx4jg3bkxxj6m1xbs40000gn/T/ipykernel_17377/742069122.py:1: FutureWarning: In a future version of pandas all arguments of DataFrame.drop except for the argument 'labels' will be keyword-only\n",
      "  df[df != 0.0].drop('Year_Month', 1).isna().groupby(df.Year_Month, sort=False).sum().reset_index()\n"
     ]
    },
    {
     "data": {
      "text/html": [
       "<div>\n",
       "<style scoped>\n",
       "    .dataframe tbody tr th:only-of-type {\n",
       "        vertical-align: middle;\n",
       "    }\n",
       "\n",
       "    .dataframe tbody tr th {\n",
       "        vertical-align: top;\n",
       "    }\n",
       "\n",
       "    .dataframe thead th {\n",
       "        text-align: right;\n",
       "    }\n",
       "</style>\n",
       "<table border=\"1\" class=\"dataframe\">\n",
       "  <thead>\n",
       "    <tr style=\"text-align: right;\">\n",
       "      <th></th>\n",
       "      <th>Year_Month</th>\n",
       "      <th>Date</th>\n",
       "      <th>Facebook BA</th>\n",
       "      <th>Facebook SA</th>\n",
       "      <th>Google</th>\n",
       "      <th>Microsoft</th>\n",
       "      <th>Pin BW</th>\n",
       "      <th>Revenue</th>\n",
       "      <th>Year</th>\n",
       "      <th>Month</th>\n",
       "      <th>WeekNumber</th>\n",
       "    </tr>\n",
       "  </thead>\n",
       "  <tbody>\n",
       "    <tr>\n",
       "      <th>0</th>\n",
       "      <td>2019-4</td>\n",
       "      <td>0</td>\n",
       "      <td>19</td>\n",
       "      <td>19</td>\n",
       "      <td>0</td>\n",
       "      <td>30</td>\n",
       "      <td>30</td>\n",
       "      <td>0</td>\n",
       "      <td>0</td>\n",
       "      <td>0</td>\n",
       "      <td>0</td>\n",
       "    </tr>\n",
       "    <tr>\n",
       "      <th>1</th>\n",
       "      <td>2019-5</td>\n",
       "      <td>0</td>\n",
       "      <td>4</td>\n",
       "      <td>0</td>\n",
       "      <td>0</td>\n",
       "      <td>19</td>\n",
       "      <td>31</td>\n",
       "      <td>0</td>\n",
       "      <td>0</td>\n",
       "      <td>0</td>\n",
       "      <td>0</td>\n",
       "    </tr>\n",
       "    <tr>\n",
       "      <th>2</th>\n",
       "      <td>2019-6</td>\n",
       "      <td>0</td>\n",
       "      <td>0</td>\n",
       "      <td>0</td>\n",
       "      <td>0</td>\n",
       "      <td>0</td>\n",
       "      <td>30</td>\n",
       "      <td>0</td>\n",
       "      <td>0</td>\n",
       "      <td>0</td>\n",
       "      <td>0</td>\n",
       "    </tr>\n",
       "    <tr>\n",
       "      <th>3</th>\n",
       "      <td>2019-7</td>\n",
       "      <td>0</td>\n",
       "      <td>0</td>\n",
       "      <td>0</td>\n",
       "      <td>0</td>\n",
       "      <td>0</td>\n",
       "      <td>31</td>\n",
       "      <td>0</td>\n",
       "      <td>0</td>\n",
       "      <td>0</td>\n",
       "      <td>0</td>\n",
       "    </tr>\n",
       "    <tr>\n",
       "      <th>4</th>\n",
       "      <td>2019-8</td>\n",
       "      <td>0</td>\n",
       "      <td>0</td>\n",
       "      <td>0</td>\n",
       "      <td>0</td>\n",
       "      <td>0</td>\n",
       "      <td>31</td>\n",
       "      <td>0</td>\n",
       "      <td>0</td>\n",
       "      <td>0</td>\n",
       "      <td>0</td>\n",
       "    </tr>\n",
       "    <tr>\n",
       "      <th>...</th>\n",
       "      <td>...</td>\n",
       "      <td>...</td>\n",
       "      <td>...</td>\n",
       "      <td>...</td>\n",
       "      <td>...</td>\n",
       "      <td>...</td>\n",
       "      <td>...</td>\n",
       "      <td>...</td>\n",
       "      <td>...</td>\n",
       "      <td>...</td>\n",
       "      <td>...</td>\n",
       "    </tr>\n",
       "    <tr>\n",
       "      <th>84</th>\n",
       "      <td>2019-3</td>\n",
       "      <td>0</td>\n",
       "      <td>31</td>\n",
       "      <td>31</td>\n",
       "      <td>0</td>\n",
       "      <td>31</td>\n",
       "      <td>31</td>\n",
       "      <td>0</td>\n",
       "      <td>0</td>\n",
       "      <td>0</td>\n",
       "      <td>0</td>\n",
       "    </tr>\n",
       "    <tr>\n",
       "      <th>85</th>\n",
       "      <td>2015-3</td>\n",
       "      <td>0</td>\n",
       "      <td>31</td>\n",
       "      <td>31</td>\n",
       "      <td>31</td>\n",
       "      <td>31</td>\n",
       "      <td>31</td>\n",
       "      <td>0</td>\n",
       "      <td>0</td>\n",
       "      <td>0</td>\n",
       "      <td>0</td>\n",
       "    </tr>\n",
       "    <tr>\n",
       "      <th>86</th>\n",
       "      <td>2015-1</td>\n",
       "      <td>0</td>\n",
       "      <td>31</td>\n",
       "      <td>31</td>\n",
       "      <td>31</td>\n",
       "      <td>31</td>\n",
       "      <td>31</td>\n",
       "      <td>0</td>\n",
       "      <td>0</td>\n",
       "      <td>0</td>\n",
       "      <td>0</td>\n",
       "    </tr>\n",
       "    <tr>\n",
       "      <th>87</th>\n",
       "      <td>2015-4</td>\n",
       "      <td>0</td>\n",
       "      <td>30</td>\n",
       "      <td>30</td>\n",
       "      <td>30</td>\n",
       "      <td>30</td>\n",
       "      <td>30</td>\n",
       "      <td>0</td>\n",
       "      <td>0</td>\n",
       "      <td>0</td>\n",
       "      <td>0</td>\n",
       "    </tr>\n",
       "    <tr>\n",
       "      <th>88</th>\n",
       "      <td>2015-2</td>\n",
       "      <td>0</td>\n",
       "      <td>28</td>\n",
       "      <td>28</td>\n",
       "      <td>28</td>\n",
       "      <td>28</td>\n",
       "      <td>28</td>\n",
       "      <td>0</td>\n",
       "      <td>0</td>\n",
       "      <td>0</td>\n",
       "      <td>0</td>\n",
       "    </tr>\n",
       "  </tbody>\n",
       "</table>\n",
       "<p>89 rows × 11 columns</p>\n",
       "</div>"
      ],
      "text/plain": [
       "   Year_Month  Date  Facebook BA  Facebook SA  Google  Microsoft  Pin BW  \\\n",
       "0      2019-4     0           19           19       0         30      30   \n",
       "1      2019-5     0            4            0       0         19      31   \n",
       "2      2019-6     0            0            0       0          0      30   \n",
       "3      2019-7     0            0            0       0          0      31   \n",
       "4      2019-8     0            0            0       0          0      31   \n",
       "..        ...   ...          ...          ...     ...        ...     ...   \n",
       "84     2019-3     0           31           31       0         31      31   \n",
       "85     2015-3     0           31           31      31         31      31   \n",
       "86     2015-1     0           31           31      31         31      31   \n",
       "87     2015-4     0           30           30      30         30      30   \n",
       "88     2015-2     0           28           28      28         28      28   \n",
       "\n",
       "    Revenue  Year  Month  WeekNumber  \n",
       "0         0     0      0           0  \n",
       "1         0     0      0           0  \n",
       "2         0     0      0           0  \n",
       "3         0     0      0           0  \n",
       "4         0     0      0           0  \n",
       "..      ...   ...    ...         ...  \n",
       "84        0     0      0           0  \n",
       "85        0     0      0           0  \n",
       "86        0     0      0           0  \n",
       "87        0     0      0           0  \n",
       "88        0     0      0           0  \n",
       "\n",
       "[89 rows x 11 columns]"
      ]
     },
     "execution_count": 37,
     "metadata": {},
     "output_type": "execute_result"
    }
   ],
   "source": [
    "df[df != 0.0].drop('Year_Month', 1).isna().groupby(df.Year_Month, sort=False).sum().reset_index()"
   ]
  },
  {
   "cell_type": "markdown",
   "id": "02a11b09",
   "metadata": {},
   "source": [
    "Periods without investment are noraml (after conversation with client) and correct treatment will be just set it to zero (without imputation)"
   ]
  },
  {
   "cell_type": "code",
   "execution_count": 38,
   "id": "ec7c58ef",
   "metadata": {},
   "outputs": [
    {
     "data": {
      "text/html": [
       "<div>\n",
       "<style scoped>\n",
       "    .dataframe tbody tr th:only-of-type {\n",
       "        vertical-align: middle;\n",
       "    }\n",
       "\n",
       "    .dataframe tbody tr th {\n",
       "        vertical-align: top;\n",
       "    }\n",
       "\n",
       "    .dataframe thead th {\n",
       "        text-align: right;\n",
       "    }\n",
       "</style>\n",
       "<table border=\"1\" class=\"dataframe\">\n",
       "  <thead>\n",
       "    <tr style=\"text-align: right;\">\n",
       "      <th></th>\n",
       "      <th>Date</th>\n",
       "      <th>Facebook BA</th>\n",
       "      <th>Facebook SA</th>\n",
       "      <th>Google</th>\n",
       "      <th>Microsoft</th>\n",
       "      <th>Pin BW</th>\n",
       "      <th>Revenue</th>\n",
       "      <th>Year</th>\n",
       "      <th>Month</th>\n",
       "      <th>Year_Month</th>\n",
       "      <th>WeekNumber</th>\n",
       "    </tr>\n",
       "  </thead>\n",
       "  <tbody>\n",
       "    <tr>\n",
       "      <th>0</th>\n",
       "      <td>2019-04-20</td>\n",
       "      <td>49.76</td>\n",
       "      <td>16.55</td>\n",
       "      <td>734.64</td>\n",
       "      <td>0.0</td>\n",
       "      <td>0.0</td>\n",
       "      <td>12239.69</td>\n",
       "      <td>2019</td>\n",
       "      <td>4</td>\n",
       "      <td>2019-4</td>\n",
       "      <td>16</td>\n",
       "    </tr>\n",
       "    <tr>\n",
       "      <th>1</th>\n",
       "      <td>2019-04-21</td>\n",
       "      <td>45.63</td>\n",
       "      <td>16.54</td>\n",
       "      <td>797.93</td>\n",
       "      <td>0.0</td>\n",
       "      <td>0.0</td>\n",
       "      <td>5775.28</td>\n",
       "      <td>2019</td>\n",
       "      <td>4</td>\n",
       "      <td>2019-4</td>\n",
       "      <td>16</td>\n",
       "    </tr>\n",
       "    <tr>\n",
       "      <th>2</th>\n",
       "      <td>2019-04-22</td>\n",
       "      <td>47.32</td>\n",
       "      <td>16.61</td>\n",
       "      <td>1153.88</td>\n",
       "      <td>0.0</td>\n",
       "      <td>0.0</td>\n",
       "      <td>12114.80</td>\n",
       "      <td>2019</td>\n",
       "      <td>4</td>\n",
       "      <td>2019-4</td>\n",
       "      <td>17</td>\n",
       "    </tr>\n",
       "    <tr>\n",
       "      <th>3</th>\n",
       "      <td>2019-04-23</td>\n",
       "      <td>47.64</td>\n",
       "      <td>16.54</td>\n",
       "      <td>837.82</td>\n",
       "      <td>0.0</td>\n",
       "      <td>0.0</td>\n",
       "      <td>13504.72</td>\n",
       "      <td>2019</td>\n",
       "      <td>4</td>\n",
       "      <td>2019-4</td>\n",
       "      <td>17</td>\n",
       "    </tr>\n",
       "    <tr>\n",
       "      <th>4</th>\n",
       "      <td>2019-04-24</td>\n",
       "      <td>47.89</td>\n",
       "      <td>16.89</td>\n",
       "      <td>822.67</td>\n",
       "      <td>0.0</td>\n",
       "      <td>0.0</td>\n",
       "      <td>8179.32</td>\n",
       "      <td>2019</td>\n",
       "      <td>4</td>\n",
       "      <td>2019-4</td>\n",
       "      <td>17</td>\n",
       "    </tr>\n",
       "  </tbody>\n",
       "</table>\n",
       "</div>"
      ],
      "text/plain": [
       "        Date  Facebook BA  Facebook SA   Google  Microsoft  Pin BW   Revenue  \\\n",
       "0 2019-04-20        49.76        16.55   734.64        0.0     0.0  12239.69   \n",
       "1 2019-04-21        45.63        16.54   797.93        0.0     0.0   5775.28   \n",
       "2 2019-04-22        47.32        16.61  1153.88        0.0     0.0  12114.80   \n",
       "3 2019-04-23        47.64        16.54   837.82        0.0     0.0  13504.72   \n",
       "4 2019-04-24        47.89        16.89   822.67        0.0     0.0   8179.32   \n",
       "\n",
       "   Year  Month Year_Month  WeekNumber  \n",
       "0  2019      4     2019-4          16  \n",
       "1  2019      4     2019-4          16  \n",
       "2  2019      4     2019-4          17  \n",
       "3  2019      4     2019-4          17  \n",
       "4  2019      4     2019-4          17  "
      ]
     },
     "execution_count": 38,
     "metadata": {},
     "output_type": "execute_result"
    }
   ],
   "source": [
    "df = df.fillna(0)\n",
    "df.head()"
   ]
  },
  {
   "cell_type": "markdown",
   "id": "e393f16f",
   "metadata": {},
   "source": [
    "### Revenue Behaviour"
   ]
  },
  {
   "cell_type": "code",
   "execution_count": 39,
   "id": "0e0022f9",
   "metadata": {},
   "outputs": [
    {
     "data": {
      "text/html": [
       "<div>\n",
       "<style scoped>\n",
       "    .dataframe tbody tr th:only-of-type {\n",
       "        vertical-align: middle;\n",
       "    }\n",
       "\n",
       "    .dataframe tbody tr th {\n",
       "        vertical-align: top;\n",
       "    }\n",
       "\n",
       "    .dataframe thead tr th {\n",
       "        text-align: left;\n",
       "    }\n",
       "\n",
       "    .dataframe thead tr:last-of-type th {\n",
       "        text-align: right;\n",
       "    }\n",
       "</style>\n",
       "<table border=\"1\" class=\"dataframe\">\n",
       "  <thead>\n",
       "    <tr>\n",
       "      <th></th>\n",
       "      <th colspan=\"8\" halign=\"left\">Revenue</th>\n",
       "    </tr>\n",
       "    <tr>\n",
       "      <th></th>\n",
       "      <th>count</th>\n",
       "      <th>mean</th>\n",
       "      <th>std</th>\n",
       "      <th>min</th>\n",
       "      <th>25%</th>\n",
       "      <th>50%</th>\n",
       "      <th>75%</th>\n",
       "      <th>max</th>\n",
       "    </tr>\n",
       "    <tr>\n",
       "      <th>Year</th>\n",
       "      <th></th>\n",
       "      <th></th>\n",
       "      <th></th>\n",
       "      <th></th>\n",
       "      <th></th>\n",
       "      <th></th>\n",
       "      <th></th>\n",
       "      <th></th>\n",
       "    </tr>\n",
       "  </thead>\n",
       "  <tbody>\n",
       "    <tr>\n",
       "      <th>2015</th>\n",
       "      <td>365.0</td>\n",
       "      <td>4513.716795</td>\n",
       "      <td>2519.314962</td>\n",
       "      <td>385.60</td>\n",
       "      <td>2823.7200</td>\n",
       "      <td>4017.530</td>\n",
       "      <td>5580.8000</td>\n",
       "      <td>16307.64</td>\n",
       "    </tr>\n",
       "    <tr>\n",
       "      <th>2016</th>\n",
       "      <td>366.0</td>\n",
       "      <td>5905.797541</td>\n",
       "      <td>3748.253621</td>\n",
       "      <td>0.00</td>\n",
       "      <td>3400.2425</td>\n",
       "      <td>5175.115</td>\n",
       "      <td>7424.8875</td>\n",
       "      <td>25849.05</td>\n",
       "    </tr>\n",
       "    <tr>\n",
       "      <th>2017</th>\n",
       "      <td>365.0</td>\n",
       "      <td>6801.879973</td>\n",
       "      <td>4162.295045</td>\n",
       "      <td>465.21</td>\n",
       "      <td>4246.8800</td>\n",
       "      <td>6117.530</td>\n",
       "      <td>8388.6200</td>\n",
       "      <td>42209.28</td>\n",
       "    </tr>\n",
       "    <tr>\n",
       "      <th>2018</th>\n",
       "      <td>365.0</td>\n",
       "      <td>7141.001123</td>\n",
       "      <td>4444.602235</td>\n",
       "      <td>0.00</td>\n",
       "      <td>4103.5000</td>\n",
       "      <td>6540.390</td>\n",
       "      <td>8804.8700</td>\n",
       "      <td>39445.79</td>\n",
       "    </tr>\n",
       "    <tr>\n",
       "      <th>2019</th>\n",
       "      <td>365.0</td>\n",
       "      <td>9352.954301</td>\n",
       "      <td>6028.602173</td>\n",
       "      <td>7.94</td>\n",
       "      <td>5928.4000</td>\n",
       "      <td>8161.410</td>\n",
       "      <td>11080.5800</td>\n",
       "      <td>44542.86</td>\n",
       "    </tr>\n",
       "    <tr>\n",
       "      <th>2020</th>\n",
       "      <td>366.0</td>\n",
       "      <td>27274.180492</td>\n",
       "      <td>17025.566652</td>\n",
       "      <td>1246.18</td>\n",
       "      <td>14040.7450</td>\n",
       "      <td>24401.485</td>\n",
       "      <td>36378.7725</td>\n",
       "      <td>104311.53</td>\n",
       "    </tr>\n",
       "    <tr>\n",
       "      <th>2021</th>\n",
       "      <td>365.0</td>\n",
       "      <td>46492.223315</td>\n",
       "      <td>22350.321814</td>\n",
       "      <td>6541.16</td>\n",
       "      <td>30642.5700</td>\n",
       "      <td>42135.890</td>\n",
       "      <td>56838.5100</td>\n",
       "      <td>132478.91</td>\n",
       "    </tr>\n",
       "    <tr>\n",
       "      <th>2022</th>\n",
       "      <td>140.0</td>\n",
       "      <td>33186.417071</td>\n",
       "      <td>12428.052169</td>\n",
       "      <td>0.00</td>\n",
       "      <td>25035.7800</td>\n",
       "      <td>32090.880</td>\n",
       "      <td>39736.3400</td>\n",
       "      <td>73789.41</td>\n",
       "    </tr>\n",
       "  </tbody>\n",
       "</table>\n",
       "</div>"
      ],
      "text/plain": [
       "     Revenue                                                              \\\n",
       "       count          mean           std      min         25%        50%   \n",
       "Year                                                                       \n",
       "2015   365.0   4513.716795   2519.314962   385.60   2823.7200   4017.530   \n",
       "2016   366.0   5905.797541   3748.253621     0.00   3400.2425   5175.115   \n",
       "2017   365.0   6801.879973   4162.295045   465.21   4246.8800   6117.530   \n",
       "2018   365.0   7141.001123   4444.602235     0.00   4103.5000   6540.390   \n",
       "2019   365.0   9352.954301   6028.602173     7.94   5928.4000   8161.410   \n",
       "2020   366.0  27274.180492  17025.566652  1246.18  14040.7450  24401.485   \n",
       "2021   365.0  46492.223315  22350.321814  6541.16  30642.5700  42135.890   \n",
       "2022   140.0  33186.417071  12428.052169     0.00  25035.7800  32090.880   \n",
       "\n",
       "                             \n",
       "             75%        max  \n",
       "Year                         \n",
       "2015   5580.8000   16307.64  \n",
       "2016   7424.8875   25849.05  \n",
       "2017   8388.6200   42209.28  \n",
       "2018   8804.8700   39445.79  \n",
       "2019  11080.5800   44542.86  \n",
       "2020  36378.7725  104311.53  \n",
       "2021  56838.5100  132478.91  \n",
       "2022  39736.3400   73789.41  "
      ]
     },
     "execution_count": 39,
     "metadata": {},
     "output_type": "execute_result"
    }
   ],
   "source": [
    "df[['Revenue', 'Year']].groupby('Year').describe()"
   ]
  },
  {
   "cell_type": "code",
   "execution_count": 40,
   "id": "35d68a5e",
   "metadata": {},
   "outputs": [
    {
     "data": {
      "text/html": [
       "<div>\n",
       "<style scoped>\n",
       "    .dataframe tbody tr th:only-of-type {\n",
       "        vertical-align: middle;\n",
       "    }\n",
       "\n",
       "    .dataframe tbody tr th {\n",
       "        vertical-align: top;\n",
       "    }\n",
       "\n",
       "    .dataframe thead tr th {\n",
       "        text-align: left;\n",
       "    }\n",
       "\n",
       "    .dataframe thead tr:last-of-type th {\n",
       "        text-align: right;\n",
       "    }\n",
       "</style>\n",
       "<table border=\"1\" class=\"dataframe\">\n",
       "  <thead>\n",
       "    <tr>\n",
       "      <th></th>\n",
       "      <th>Revenue</th>\n",
       "    </tr>\n",
       "    <tr>\n",
       "      <th></th>\n",
       "      <th>sum</th>\n",
       "    </tr>\n",
       "    <tr>\n",
       "      <th>Year</th>\n",
       "      <th></th>\n",
       "    </tr>\n",
       "  </thead>\n",
       "  <tbody>\n",
       "    <tr>\n",
       "      <th>2015</th>\n",
       "      <td>1647506.63</td>\n",
       "    </tr>\n",
       "    <tr>\n",
       "      <th>2016</th>\n",
       "      <td>2161521.90</td>\n",
       "    </tr>\n",
       "    <tr>\n",
       "      <th>2017</th>\n",
       "      <td>2482686.19</td>\n",
       "    </tr>\n",
       "    <tr>\n",
       "      <th>2018</th>\n",
       "      <td>2606465.41</td>\n",
       "    </tr>\n",
       "    <tr>\n",
       "      <th>2019</th>\n",
       "      <td>3413828.32</td>\n",
       "    </tr>\n",
       "    <tr>\n",
       "      <th>2020</th>\n",
       "      <td>9982350.06</td>\n",
       "    </tr>\n",
       "    <tr>\n",
       "      <th>2021</th>\n",
       "      <td>16969661.51</td>\n",
       "    </tr>\n",
       "    <tr>\n",
       "      <th>2022</th>\n",
       "      <td>4646098.39</td>\n",
       "    </tr>\n",
       "  </tbody>\n",
       "</table>\n",
       "</div>"
      ],
      "text/plain": [
       "          Revenue\n",
       "              sum\n",
       "Year             \n",
       "2015   1647506.63\n",
       "2016   2161521.90\n",
       "2017   2482686.19\n",
       "2018   2606465.41\n",
       "2019   3413828.32\n",
       "2020   9982350.06\n",
       "2021  16969661.51\n",
       "2022   4646098.39"
      ]
     },
     "execution_count": 40,
     "metadata": {},
     "output_type": "execute_result"
    }
   ],
   "source": [
    "df[['Revenue', 'Year']].groupby('Year').agg(['sum'])"
   ]
  },
  {
   "cell_type": "code",
   "execution_count": 41,
   "id": "53317327",
   "metadata": {},
   "outputs": [
    {
     "data": {
      "text/plain": [
       "<AxesSubplot:title={'center':'Revenue'}, xlabel='[Year]'>"
      ]
     },
     "execution_count": 41,
     "metadata": {},
     "output_type": "execute_result"
    },
    {
     "data": {
      "image/png": "[encoded data removed]",
      "text/plain": [
       "<Figure size 432x288 with 1 Axes>"
      ]
     },
     "metadata": {
      "needs_background": "light"
     },
     "output_type": "display_data"
    }
   ],
   "source": [
    "df[['Revenue', 'Year']].boxplot(by='Year')"
   ]
  },
  {
   "cell_type": "code",
   "execution_count": 42,
   "id": "948083fd",
   "metadata": {},
   "outputs": [
    {
     "name": "stderr",
     "output_type": "stream",
     "text": [
      "/var/folders/k2/8mbjx2mx4jg3bkxxj6m1xbs40000gn/T/ipykernel_17377/227019154.py:7: UserWarning: Matplotlib is currently using module://matplotlib_inline.backend_inline, which is a non-GUI backend, so cannot show the figure.\n",
      "  fig.show()\n"
     ]
    },
    {
     "data": {
      "image/png": "[encoded data removed]",
      "text/plain": [
       "<Figure size 1080x1080 with 4 Axes>"
      ]
     },
     "metadata": {
      "needs_background": "light"
     },
     "output_type": "display_data"
    }
   ],
   "source": [
    "fig, axes = plt.subplots(2, 2, figsize=(15.,15.))\n",
    "\n",
    "\n",
    "ax = df[df['Year']==2020][['Revenue', 'Month']].boxplot(by='Month', ax=axes[0, 0])\n",
    "ax = df[df['Year']==2021][['Revenue', 'Month']].boxplot(by='Month', ax=axes[0, 1])\n",
    "ax = df[df['Year']==2022][['Revenue', 'Month']].boxplot(by='Month', ax=axes[1, 0])\n",
    "fig.show()"
   ]
  },
  {
   "cell_type": "markdown",
   "id": "94d27bc1",
   "metadata": {},
   "source": [
    "Conclusion\n",
    "\n",
    "* 2019 Investment into marketing channels began at the end of the year\n",
    "* 2020 because of covid has a lot of nuisance variables that we cannot account for\n",
    "* 2022 we don't have enough data.\n",
    "* 2020 there are several periods without channel investment (probably because of COVID)\n",
    "\n",
    "Focus the analysis on 2021 data for now and see how later how the model holds in other periods"
   ]
  },
  {
   "cell_type": "markdown",
   "id": "4f73de3d",
   "metadata": {},
   "source": [
    "### From this point forward just information from 2021 will be described\n",
    "\n",
    "We are accounting for too few variables in the MMM model. By using 2021 data only, we want to reduce the risk of observation external behavior not related to variables that we can measure/control."
   ]
  },
  {
   "cell_type": "code",
   "execution_count": 43,
   "id": "5a548661",
   "metadata": {},
   "outputs": [
    {
     "data": {
      "text/html": [
       "<div>\n",
       "<style scoped>\n",
       "    .dataframe tbody tr th:only-of-type {\n",
       "        vertical-align: middle;\n",
       "    }\n",
       "\n",
       "    .dataframe tbody tr th {\n",
       "        vertical-align: top;\n",
       "    }\n",
       "\n",
       "    .dataframe thead th {\n",
       "        text-align: right;\n",
       "    }\n",
       "</style>\n",
       "<table border=\"1\" class=\"dataframe\">\n",
       "  <thead>\n",
       "    <tr style=\"text-align: right;\">\n",
       "      <th></th>\n",
       "      <th>Date</th>\n",
       "      <th>Facebook BA</th>\n",
       "      <th>Facebook SA</th>\n",
       "      <th>Google</th>\n",
       "      <th>Microsoft</th>\n",
       "      <th>Pin BW</th>\n",
       "      <th>Revenue</th>\n",
       "      <th>Year</th>\n",
       "      <th>Month</th>\n",
       "      <th>Year_Month</th>\n",
       "      <th>WeekNumber</th>\n",
       "    </tr>\n",
       "  </thead>\n",
       "  <tbody>\n",
       "    <tr>\n",
       "      <th>0</th>\n",
       "      <td>2021-01-01</td>\n",
       "      <td>464.08</td>\n",
       "      <td>824.16</td>\n",
       "      <td>4476.01</td>\n",
       "      <td>146.36</td>\n",
       "      <td>57.498894</td>\n",
       "      <td>82921.55</td>\n",
       "      <td>2021</td>\n",
       "      <td>1</td>\n",
       "      <td>2021-1</td>\n",
       "      <td>53</td>\n",
       "    </tr>\n",
       "    <tr>\n",
       "      <th>1</th>\n",
       "      <td>2021-01-02</td>\n",
       "      <td>457.15</td>\n",
       "      <td>817.14</td>\n",
       "      <td>5363.22</td>\n",
       "      <td>118.49</td>\n",
       "      <td>66.581756</td>\n",
       "      <td>60075.61</td>\n",
       "      <td>2021</td>\n",
       "      <td>1</td>\n",
       "      <td>2021-1</td>\n",
       "      <td>53</td>\n",
       "    </tr>\n",
       "    <tr>\n",
       "      <th>2</th>\n",
       "      <td>2021-01-03</td>\n",
       "      <td>451.77</td>\n",
       "      <td>790.38</td>\n",
       "      <td>5228.40</td>\n",
       "      <td>143.98</td>\n",
       "      <td>85.236258</td>\n",
       "      <td>56313.61</td>\n",
       "      <td>2021</td>\n",
       "      <td>1</td>\n",
       "      <td>2021-1</td>\n",
       "      <td>53</td>\n",
       "    </tr>\n",
       "    <tr>\n",
       "      <th>3</th>\n",
       "      <td>2021-01-04</td>\n",
       "      <td>457.18</td>\n",
       "      <td>778.30</td>\n",
       "      <td>3380.94</td>\n",
       "      <td>127.84</td>\n",
       "      <td>71.762240</td>\n",
       "      <td>49477.05</td>\n",
       "      <td>2021</td>\n",
       "      <td>1</td>\n",
       "      <td>2021-1</td>\n",
       "      <td>1</td>\n",
       "    </tr>\n",
       "    <tr>\n",
       "      <th>4</th>\n",
       "      <td>2021-01-05</td>\n",
       "      <td>397.81</td>\n",
       "      <td>812.72</td>\n",
       "      <td>2908.67</td>\n",
       "      <td>144.15</td>\n",
       "      <td>81.187551</td>\n",
       "      <td>47978.61</td>\n",
       "      <td>2021</td>\n",
       "      <td>1</td>\n",
       "      <td>2021-1</td>\n",
       "      <td>1</td>\n",
       "    </tr>\n",
       "  </tbody>\n",
       "</table>\n",
       "</div>"
      ],
      "text/plain": [
       "        Date  Facebook BA  Facebook SA   Google  Microsoft     Pin BW  \\\n",
       "0 2021-01-01       464.08       824.16  4476.01     146.36  57.498894   \n",
       "1 2021-01-02       457.15       817.14  5363.22     118.49  66.581756   \n",
       "2 2021-01-03       451.77       790.38  5228.40     143.98  85.236258   \n",
       "3 2021-01-04       457.18       778.30  3380.94     127.84  71.762240   \n",
       "4 2021-01-05       397.81       812.72  2908.67     144.15  81.187551   \n",
       "\n",
       "    Revenue  Year  Month Year_Month  WeekNumber  \n",
       "0  82921.55  2021      1     2021-1          53  \n",
       "1  60075.61  2021      1     2021-1          53  \n",
       "2  56313.61  2021      1     2021-1          53  \n",
       "3  49477.05  2021      1     2021-1           1  \n",
       "4  47978.61  2021      1     2021-1           1  "
      ]
     },
     "execution_count": 43,
     "metadata": {},
     "output_type": "execute_result"
    }
   ],
   "source": [
    "df_2021=df[df['Year']==2021].sort_values(\"Date\").reset_index(drop=True)\n",
    "df_2021.head()"
   ]
  },
  {
   "cell_type": "markdown",
   "id": "8e1ca489",
   "metadata": {},
   "source": [
    "## Channel Investment Behaviour"
   ]
  },
  {
   "cell_type": "code",
   "execution_count": 44,
   "id": "cc49cad3",
   "metadata": {},
   "outputs": [
    {
     "data": {
      "text/html": [
       "<div>\n",
       "<style scoped>\n",
       "    .dataframe tbody tr th:only-of-type {\n",
       "        vertical-align: middle;\n",
       "    }\n",
       "\n",
       "    .dataframe tbody tr th {\n",
       "        vertical-align: top;\n",
       "    }\n",
       "\n",
       "    .dataframe thead th {\n",
       "        text-align: right;\n",
       "    }\n",
       "</style>\n",
       "<table border=\"1\" class=\"dataframe\">\n",
       "  <thead>\n",
       "    <tr style=\"text-align: right;\">\n",
       "      <th></th>\n",
       "      <th>Facebook BA</th>\n",
       "      <th>Facebook SA</th>\n",
       "      <th>Google</th>\n",
       "      <th>Microsoft</th>\n",
       "      <th>Pin BW</th>\n",
       "    </tr>\n",
       "  </thead>\n",
       "  <tbody>\n",
       "    <tr>\n",
       "      <th>sum</th>\n",
       "      <td>121956.41</td>\n",
       "      <td>241550.61</td>\n",
       "      <td>1126437.98</td>\n",
       "      <td>59333.62</td>\n",
       "      <td>135643.556247</td>\n",
       "    </tr>\n",
       "  </tbody>\n",
       "</table>\n",
       "</div>"
      ],
      "text/plain": [
       "     Facebook BA  Facebook SA      Google  Microsoft         Pin BW\n",
       "sum    121956.41    241550.61  1126437.98   59333.62  135643.556247"
      ]
     },
     "execution_count": 44,
     "metadata": {},
     "output_type": "execute_result"
    }
   ],
   "source": [
    "df_2021[[\"Facebook BA\",\"Facebook SA\",\"Google\",\"Microsoft\", \"Pin BW\"]].agg(['sum'])\n"
   ]
  },
  {
   "cell_type": "code",
   "execution_count": 45,
   "id": "4f73eec7",
   "metadata": {},
   "outputs": [
    {
     "data": {
      "text/plain": [
       "array([[<AxesSubplot:title={'center':'Facebook BA'}, xlabel='Month'>,\n",
       "        <AxesSubplot:title={'center':'Facebook SA'}, xlabel='Month'>],\n",
       "       [<AxesSubplot:title={'center':'Google'}, xlabel='Month'>,\n",
       "        <AxesSubplot:title={'center':'Microsoft'}, xlabel='Month'>],\n",
       "       [<AxesSubplot:title={'center':'Pin BW'}, xlabel='Month'>,\n",
       "        <AxesSubplot:>]], dtype=object)"
      ]
     },
     "execution_count": 45,
     "metadata": {},
     "output_type": "execute_result"
    },
    {
     "data": {
      "image/png": "[encoded data removed]",
      "text/plain": [
       "<Figure size 1440x1440 with 6 Axes>"
      ]
     },
     "metadata": {
      "needs_background": "light"
     },
     "output_type": "display_data"
    }
   ],
   "source": [
    "df_2021.boxplot(figsize=(20., 20.), by=\"Month\", column=[\"Facebook BA\",\"Facebook SA\",\"Google\",\"Microsoft\", \"Pin BW\"])\n"
   ]
  },
  {
   "cell_type": "markdown",
   "id": "524fd489",
   "metadata": {},
   "source": [
    "### Variable Correlations"
   ]
  },
  {
   "cell_type": "code",
   "execution_count": 46,
   "id": "a79edba8",
   "metadata": {},
   "outputs": [
    {
     "name": "stderr",
     "output_type": "stream",
     "text": [
      "/var/folders/k2/8mbjx2mx4jg3bkxxj6m1xbs40000gn/T/ipykernel_17377/2453748810.py:2: FutureWarning: this method is deprecated in favour of `Styler.format(precision=..)`\n",
      "  corr.style.background_gradient(cmap='coolwarm').set_precision(2)\n"
     ]
    },
    {
     "data": {
      "text/html": [
       "<style type=\"text/css\">\n",
       "#T_1bd0c_row0_col0, #T_1bd0c_row1_col1, #T_1bd0c_row2_col2, #T_1bd0c_row3_col3, #T_1bd0c_row4_col4 {\n",
       "  background-color: #b40426;\n",
       "  color: #f1f1f1;\n",
       "}\n",
       "#T_1bd0c_row0_col1 {\n",
       "  background-color: #c3d5f4;\n",
       "  color: #000000;\n",
       "}\n",
       "#T_1bd0c_row0_col2 {\n",
       "  background-color: #6687ed;\n",
       "  color: #f1f1f1;\n",
       "}\n",
       "#T_1bd0c_row0_col3, #T_1bd0c_row2_col4, #T_1bd0c_row3_col0, #T_1bd0c_row3_col1, #T_1bd0c_row4_col2 {\n",
       "  background-color: #3b4cc0;\n",
       "  color: #f1f1f1;\n",
       "}\n",
       "#T_1bd0c_row0_col4 {\n",
       "  background-color: #7b9ff9;\n",
       "  color: #f1f1f1;\n",
       "}\n",
       "#T_1bd0c_row1_col0 {\n",
       "  background-color: #c9d7f0;\n",
       "  color: #000000;\n",
       "}\n",
       "#T_1bd0c_row1_col2 {\n",
       "  background-color: #e5d8d1;\n",
       "  color: #000000;\n",
       "}\n",
       "#T_1bd0c_row1_col3 {\n",
       "  background-color: #4358cb;\n",
       "  color: #f1f1f1;\n",
       "}\n",
       "#T_1bd0c_row1_col4 {\n",
       "  background-color: #4055c8;\n",
       "  color: #f1f1f1;\n",
       "}\n",
       "#T_1bd0c_row2_col0 {\n",
       "  background-color: #779af7;\n",
       "  color: #f1f1f1;\n",
       "}\n",
       "#T_1bd0c_row2_col1 {\n",
       "  background-color: #e9d5cb;\n",
       "  color: #000000;\n",
       "}\n",
       "#T_1bd0c_row2_col3 {\n",
       "  background-color: #e0dbd8;\n",
       "  color: #000000;\n",
       "}\n",
       "#T_1bd0c_row3_col2 {\n",
       "  background-color: #d8dce2;\n",
       "  color: #000000;\n",
       "}\n",
       "#T_1bd0c_row3_col4 {\n",
       "  background-color: #536edd;\n",
       "  color: #f1f1f1;\n",
       "}\n",
       "#T_1bd0c_row4_col0 {\n",
       "  background-color: #8caffe;\n",
       "  color: #000000;\n",
       "}\n",
       "#T_1bd0c_row4_col1 {\n",
       "  background-color: #4961d2;\n",
       "  color: #f1f1f1;\n",
       "}\n",
       "#T_1bd0c_row4_col3 {\n",
       "  background-color: #6485ec;\n",
       "  color: #f1f1f1;\n",
       "}\n",
       "</style>\n",
       "<table id=\"T_1bd0c_\">\n",
       "  <thead>\n",
       "    <tr>\n",
       "      <th class=\"blank level0\" >&nbsp;</th>\n",
       "      <th class=\"col_heading level0 col0\" >Facebook BA</th>\n",
       "      <th class=\"col_heading level0 col1\" >Facebook SA</th>\n",
       "      <th class=\"col_heading level0 col2\" >Google</th>\n",
       "      <th class=\"col_heading level0 col3\" >Microsoft</th>\n",
       "      <th class=\"col_heading level0 col4\" >Pin BW</th>\n",
       "    </tr>\n",
       "  </thead>\n",
       "  <tbody>\n",
       "    <tr>\n",
       "      <th id=\"T_1bd0c_level0_row0\" class=\"row_heading level0 row0\" >Facebook BA</th>\n",
       "      <td id=\"T_1bd0c_row0_col0\" class=\"data row0 col0\" >1.00</td>\n",
       "      <td id=\"T_1bd0c_row0_col1\" class=\"data row0 col1\" >0.28</td>\n",
       "      <td id=\"T_1bd0c_row0_col2\" class=\"data row0 col2\" >-0.02</td>\n",
       "      <td id=\"T_1bd0c_row0_col3\" class=\"data row0 col3\" >-0.26</td>\n",
       "      <td id=\"T_1bd0c_row0_col4\" class=\"data row0 col4\" >0.05</td>\n",
       "    </tr>\n",
       "    <tr>\n",
       "      <th id=\"T_1bd0c_level0_row1\" class=\"row_heading level0 row1\" >Facebook SA</th>\n",
       "      <td id=\"T_1bd0c_row1_col0\" class=\"data row1 col0\" >0.28</td>\n",
       "      <td id=\"T_1bd0c_row1_col1\" class=\"data row1 col1\" >1.00</td>\n",
       "      <td id=\"T_1bd0c_row1_col2\" class=\"data row1 col2\" >0.45</td>\n",
       "      <td id=\"T_1bd0c_row1_col3\" class=\"data row1 col3\" >-0.22</td>\n",
       "      <td id=\"T_1bd0c_row1_col4\" class=\"data row1 col4\" >-0.16</td>\n",
       "    </tr>\n",
       "    <tr>\n",
       "      <th id=\"T_1bd0c_level0_row2\" class=\"row_heading level0 row2\" >Google</th>\n",
       "      <td id=\"T_1bd0c_row2_col0\" class=\"data row2 col0\" >-0.02</td>\n",
       "      <td id=\"T_1bd0c_row2_col1\" class=\"data row2 col1\" >0.45</td>\n",
       "      <td id=\"T_1bd0c_row2_col2\" class=\"data row2 col2\" >1.00</td>\n",
       "      <td id=\"T_1bd0c_row2_col3\" class=\"data row2 col3\" >0.39</td>\n",
       "      <td id=\"T_1bd0c_row2_col4\" class=\"data row2 col4\" >-0.19</td>\n",
       "    </tr>\n",
       "    <tr>\n",
       "      <th id=\"T_1bd0c_level0_row3\" class=\"row_heading level0 row3\" >Microsoft</th>\n",
       "      <td id=\"T_1bd0c_row3_col0\" class=\"data row3 col0\" >-0.26</td>\n",
       "      <td id=\"T_1bd0c_row3_col1\" class=\"data row3 col1\" >-0.22</td>\n",
       "      <td id=\"T_1bd0c_row3_col2\" class=\"data row3 col2\" >0.39</td>\n",
       "      <td id=\"T_1bd0c_row3_col3\" class=\"data row3 col3\" >1.00</td>\n",
       "      <td id=\"T_1bd0c_row3_col4\" class=\"data row3 col4\" >-0.09</td>\n",
       "    </tr>\n",
       "    <tr>\n",
       "      <th id=\"T_1bd0c_level0_row4\" class=\"row_heading level0 row4\" >Pin BW</th>\n",
       "      <td id=\"T_1bd0c_row4_col0\" class=\"data row4 col0\" >0.05</td>\n",
       "      <td id=\"T_1bd0c_row4_col1\" class=\"data row4 col1\" >-0.16</td>\n",
       "      <td id=\"T_1bd0c_row4_col2\" class=\"data row4 col2\" >-0.19</td>\n",
       "      <td id=\"T_1bd0c_row4_col3\" class=\"data row4 col3\" >-0.09</td>\n",
       "      <td id=\"T_1bd0c_row4_col4\" class=\"data row4 col4\" >1.00</td>\n",
       "    </tr>\n",
       "  </tbody>\n",
       "</table>\n"
      ],
      "text/plain": [
       "<pandas.io.formats.style.Styler at 0x7f7a23639c10>"
      ]
     },
     "execution_count": 46,
     "metadata": {},
     "output_type": "execute_result"
    }
   ],
   "source": [
    "corr = df_2021[[\"Facebook BA\",\"Facebook SA\",\"Google\",\"Microsoft\", \"Pin BW\"]].corr()\n",
    "corr.style.background_gradient(cmap='coolwarm').set_precision(2)"
   ]
  },
  {
   "cell_type": "markdown",
   "id": "fe855175",
   "metadata": {},
   "source": [
    "We are doing this PCA analysis to show how bad the natural aggrupation of the variables is.\n",
    "\n"
   ]
  },
  {
   "cell_type": "code",
   "execution_count": 47,
   "id": "4a577e2c",
   "metadata": {},
   "outputs": [
    {
     "data": {
      "text/plain": [
       "array([0.94552293, 0.0357755 , 0.01350531, 0.00362141, 0.00157485])"
      ]
     },
     "execution_count": 47,
     "metadata": {},
     "output_type": "execute_result"
    }
   ],
   "source": [
    "pca = PCA()\n",
    "pca.fit(df_2021[[\"Facebook BA\",\"Facebook SA\",\"Google\",\"Microsoft\", \"Pin BW\"]])\n",
    "pca.explained_variance_ratio_ "
   ]
  },
  {
   "cell_type": "markdown",
   "id": "358f7e23",
   "metadata": {},
   "source": [
    "## Feature Importance"
   ]
  },
  {
   "cell_type": "code",
   "execution_count": 48,
   "id": "5b40e765",
   "metadata": {},
   "outputs": [
    {
     "data": {
      "text/plain": [
       "Date           False\n",
       "Facebook BA    False\n",
       "Facebook SA    False\n",
       "Google         False\n",
       "Microsoft      False\n",
       "Pin BW         False\n",
       "Revenue        False\n",
       "Year           False\n",
       "Month          False\n",
       "Year_Month     False\n",
       "WeekNumber     False\n",
       "dtype: bool"
      ]
     },
     "execution_count": 48,
     "metadata": {},
     "output_type": "execute_result"
    }
   ],
   "source": [
    "df_2021.isnull().any()"
   ]
  },
  {
   "cell_type": "code",
   "execution_count": 49,
   "id": "0fb4436e",
   "metadata": {},
   "outputs": [
    {
     "data": {
      "text/plain": [
       "<AxesSubplot:>"
      ]
     },
     "execution_count": 49,
     "metadata": {},
     "output_type": "execute_result"
    },
    {
     "data": {
      "image/png": "[encoded data removed]",
      "text/plain": [
       "<Figure size 720x720 with 1 Axes>"
      ]
     },
     "metadata": {
      "needs_background": "light"
     },
     "output_type": "display_data"
    }
   ],
   "source": [
    "df_fi = df_2021.drop(['Date','Year','Month','Year_Month','WeekNumber'], axis=1)\n",
    "X = df_fi.loc[:, df_fi.columns != 'Revenue']\n",
    "y = df_fi['Revenue']\n",
    "from sklearn.ensemble import RandomForestRegressor\n",
    "from sklearn.model_selection import train_test_split\n",
    "\n",
    "X_train, X_test, y_train, y_test = train_test_split(X, y, test_size=.2, random_state=0)\n",
    "model = RandomForestRegressor(random_state=1)\n",
    "model.fit(X_train, y_train)\n",
    "pred = model.predict(X_test)\n",
    "\n",
    "feat_importances = pd.Series(model.feature_importances_, index=X.columns)\n",
    "feat_importances.nlargest(25).plot(kind='barh',figsize=(10,10))"
   ]
  },
  {
   "cell_type": "code",
   "execution_count": 50,
   "id": "1057d16a",
   "metadata": {},
   "outputs": [
    {
     "data": {
      "text/html": [
       "<div>\n",
       "<style scoped>\n",
       "    .dataframe tbody tr th:only-of-type {\n",
       "        vertical-align: middle;\n",
       "    }\n",
       "\n",
       "    .dataframe tbody tr th {\n",
       "        vertical-align: top;\n",
       "    }\n",
       "\n",
       "    .dataframe thead th {\n",
       "        text-align: right;\n",
       "    }\n",
       "</style>\n",
       "<table border=\"1\" class=\"dataframe\">\n",
       "  <thead>\n",
       "    <tr style=\"text-align: right;\">\n",
       "      <th></th>\n",
       "      <th>Facebook SA</th>\n",
       "      <th>Facebook BA</th>\n",
       "      <th>Google</th>\n",
       "      <th>Pin BW</th>\n",
       "      <th>Microsoft</th>\n",
       "    </tr>\n",
       "  </thead>\n",
       "  <tbody>\n",
       "    <tr>\n",
       "      <th>sum</th>\n",
       "      <td>378610.9</td>\n",
       "      <td>388069.22</td>\n",
       "      <td>3261812.71</td>\n",
       "      <td>186878.468162</td>\n",
       "      <td>150965.09</td>\n",
       "    </tr>\n",
       "  </tbody>\n",
       "</table>\n",
       "</div>"
      ],
      "text/plain": [
       "     Facebook SA  Facebook BA      Google         Pin BW  Microsoft\n",
       "sum     378610.9    388069.22  3261812.71  186878.468162  150965.09"
      ]
     },
     "execution_count": 50,
     "metadata": {},
     "output_type": "execute_result"
    }
   ],
   "source": [
    "df[[\"Facebook SA\",\"Facebook BA\",\"Google\",\"Pin BW\",\"Microsoft\"]].agg(['sum'])"
   ]
  },
  {
   "cell_type": "code",
   "execution_count": 86,
   "id": "0ea36513",
   "metadata": {},
   "outputs": [
    {
     "data": {
      "text/html": [
       "<div>\n",
       "<style scoped>\n",
       "    .dataframe tbody tr th:only-of-type {\n",
       "        vertical-align: middle;\n",
       "    }\n",
       "\n",
       "    .dataframe tbody tr th {\n",
       "        vertical-align: top;\n",
       "    }\n",
       "\n",
       "    .dataframe thead tr th {\n",
       "        text-align: left;\n",
       "    }\n",
       "\n",
       "    .dataframe thead tr:last-of-type th {\n",
       "        text-align: right;\n",
       "    }\n",
       "</style>\n",
       "<table border=\"1\" class=\"dataframe\">\n",
       "  <thead>\n",
       "    <tr>\n",
       "      <th></th>\n",
       "      <th>Revenue</th>\n",
       "      <th>Facebook SA</th>\n",
       "      <th>Facebook BA</th>\n",
       "      <th>Google</th>\n",
       "      <th>Pin BW</th>\n",
       "      <th>Microsoft</th>\n",
       "    </tr>\n",
       "    <tr>\n",
       "      <th></th>\n",
       "      <th>sum</th>\n",
       "      <th>sum</th>\n",
       "      <th>sum</th>\n",
       "      <th>sum</th>\n",
       "      <th>sum</th>\n",
       "      <th>sum</th>\n",
       "    </tr>\n",
       "    <tr>\n",
       "      <th>Year</th>\n",
       "      <th></th>\n",
       "      <th></th>\n",
       "      <th></th>\n",
       "      <th></th>\n",
       "      <th></th>\n",
       "      <th></th>\n",
       "    </tr>\n",
       "  </thead>\n",
       "  <tbody>\n",
       "    <tr>\n",
       "      <th>2015</th>\n",
       "      <td>1647506.63</td>\n",
       "      <td>0.00</td>\n",
       "      <td>0.00</td>\n",
       "      <td>82778.40</td>\n",
       "      <td>0.000000</td>\n",
       "      <td>0.00</td>\n",
       "    </tr>\n",
       "    <tr>\n",
       "      <th>2016</th>\n",
       "      <td>2161521.90</td>\n",
       "      <td>0.00</td>\n",
       "      <td>0.00</td>\n",
       "      <td>204300.06</td>\n",
       "      <td>0.000000</td>\n",
       "      <td>0.00</td>\n",
       "    </tr>\n",
       "    <tr>\n",
       "      <th>2017</th>\n",
       "      <td>2482686.19</td>\n",
       "      <td>0.00</td>\n",
       "      <td>0.00</td>\n",
       "      <td>241529.19</td>\n",
       "      <td>0.000000</td>\n",
       "      <td>0.00</td>\n",
       "    </tr>\n",
       "    <tr>\n",
       "      <th>2018</th>\n",
       "      <td>2606465.41</td>\n",
       "      <td>0.00</td>\n",
       "      <td>0.00</td>\n",
       "      <td>243798.12</td>\n",
       "      <td>0.000000</td>\n",
       "      <td>0.00</td>\n",
       "    </tr>\n",
       "    <tr>\n",
       "      <th>2019</th>\n",
       "      <td>3413828.32</td>\n",
       "      <td>3151.41</td>\n",
       "      <td>12530.85</td>\n",
       "      <td>324130.97</td>\n",
       "      <td>0.000000</td>\n",
       "      <td>10773.37</td>\n",
       "    </tr>\n",
       "    <tr>\n",
       "      <th>2020</th>\n",
       "      <td>9982350.06</td>\n",
       "      <td>82502.67</td>\n",
       "      <td>186981.34</td>\n",
       "      <td>479160.32</td>\n",
       "      <td>2467.554672</td>\n",
       "      <td>32476.87</td>\n",
       "    </tr>\n",
       "    <tr>\n",
       "      <th>2021</th>\n",
       "      <td>16969661.51</td>\n",
       "      <td>241550.61</td>\n",
       "      <td>121956.41</td>\n",
       "      <td>1126437.98</td>\n",
       "      <td>135643.556247</td>\n",
       "      <td>59333.62</td>\n",
       "    </tr>\n",
       "    <tr>\n",
       "      <th>2022</th>\n",
       "      <td>4646098.39</td>\n",
       "      <td>51406.21</td>\n",
       "      <td>66600.62</td>\n",
       "      <td>559677.67</td>\n",
       "      <td>48767.357243</td>\n",
       "      <td>48381.23</td>\n",
       "    </tr>\n",
       "  </tbody>\n",
       "</table>\n",
       "</div>"
      ],
      "text/plain": [
       "          Revenue Facebook SA Facebook BA      Google         Pin BW Microsoft\n",
       "              sum         sum         sum         sum            sum       sum\n",
       "Year                                                                          \n",
       "2015   1647506.63        0.00        0.00    82778.40       0.000000      0.00\n",
       "2016   2161521.90        0.00        0.00   204300.06       0.000000      0.00\n",
       "2017   2482686.19        0.00        0.00   241529.19       0.000000      0.00\n",
       "2018   2606465.41        0.00        0.00   243798.12       0.000000      0.00\n",
       "2019   3413828.32     3151.41    12530.85   324130.97       0.000000  10773.37\n",
       "2020   9982350.06    82502.67   186981.34   479160.32    2467.554672  32476.87\n",
       "2021  16969661.51   241550.61   121956.41  1126437.98  135643.556247  59333.62\n",
       "2022   4646098.39    51406.21    66600.62   559677.67   48767.357243  48381.23"
      ]
     },
     "execution_count": 86,
     "metadata": {},
     "output_type": "execute_result"
    }
   ],
   "source": [
    "df[['Revenue','Year',\"Facebook SA\",\"Facebook BA\",\"Google\",\"Pin BW\",\"Microsoft\"]].groupby('Year').agg(['sum'])"
   ]
  },
  {
   "cell_type": "markdown",
   "id": "c14059d3",
   "metadata": {},
   "source": [
    "Google has received by far the most ivestment (3.26 million pounds), followed by Facebook BA, SA, Pin BW and then Microsoft. \n",
    "Despite this skewed investment pattern, the Random Forest Feature Importance model shows that Facebook SA is the most important feature, followed by Google. \n",
    "Microsoft, Pin and Facebook BA were all around the same level. \n"
   ]
  },
  {
   "cell_type": "markdown",
   "id": "27a5ce9d",
   "metadata": {},
   "source": [
    "### Normality Tets"
   ]
  },
  {
   "cell_type": "code",
   "execution_count": 52,
   "id": "8c331337",
   "metadata": {},
   "outputs": [
    {
     "name": "stdout",
     "output_type": "stream",
     "text": [
      "Facebook BA: NormaltestResult(statistic=60.684590540438755, pvalue=6.645208254453786e-14)\n",
      "Facebook SA: NormaltestResult(statistic=33.909705015274106, pvalue=4.331128953472435e-08)\n",
      "Google: NormaltestResult(statistic=98.45379777134357, pvalue=4.1785870379661462e-22)\n",
      "Microsoft: NormaltestResult(statistic=170.5911191537431, pvalue=9.049178289979169e-38)\n",
      "Pin BW: NormaltestResult(statistic=84.47887881782155, pvalue=4.525270516315291e-19)\n",
      "Revenue: NormaltestResult(statistic=59.06986468252856, pvalue=1.4898476518635155e-13)\n"
     ]
    }
   ],
   "source": [
    "from scipy.stats import normaltest\n",
    "for column in [\"Facebook BA\",\"Facebook SA\",\"Google\",\"Microsoft\", \"Pin BW\",\"Revenue\"]:\n",
    "    print(\"{}: {}\".format(column, normaltest(df_2021[column])))"
   ]
  },
  {
   "cell_type": "markdown",
   "id": "a50be22e",
   "metadata": {},
   "source": [
    "### Regression Fit "
   ]
  },
  {
   "cell_type": "code",
   "execution_count": 53,
   "id": "e814b872",
   "metadata": {},
   "outputs": [],
   "source": [
    "df_2021 = df_2021.rename(columns={\n",
    "    \"Facebook BA\":'FacebookBA', 'Facebook SA':'FacebookSA', 'Pin BW': \"PinBW\"\n",
    "})"
   ]
  },
  {
   "cell_type": "markdown",
   "id": "e8d12f2e",
   "metadata": {},
   "source": [
    "### Daily Regressions"
   ]
  },
  {
   "cell_type": "code",
   "execution_count": 54,
   "id": "857b501f",
   "metadata": {},
   "outputs": [
    {
     "name": "stdout",
     "output_type": "stream",
     "text": [
      "                            OLS Regression Results                            \n",
      "==============================================================================\n",
      "Dep. Variable:                Revenue   R-squared:                       0.737\n",
      "Model:                            OLS   Adj. R-squared:                  0.733\n",
      "Method:                 Least Squares   F-statistic:                     200.8\n",
      "Date:                Wed, 20 Jul 2022   Prob (F-statistic):          1.12e-101\n",
      "Time:                        11:56:35   Log-Likelihood:                -3929.2\n",
      "No. Observations:                 365   AIC:                             7870.\n",
      "Df Residuals:                     359   BIC:                             7894.\n",
      "Df Model:                           5                                         \n",
      "Covariance Type:            nonrobust                                         \n",
      "==============================================================================\n",
      "                 coef    std err          t      P>|t|      [0.025      0.975]\n",
      "------------------------------------------------------------------------------\n",
      "Intercept   1.497e+04   3790.708      3.949      0.000    7514.099    2.24e+04\n",
      "FacebookBA    -9.4702      9.536     -0.993      0.321     -28.224       9.283\n",
      "FacebookSA    24.4501      2.420     10.101      0.000      19.690      29.210\n",
      "PinBW         -7.8849      3.301     -2.388      0.017     -14.377      -1.393\n",
      "Google         9.2900      0.533     17.420      0.000       8.241      10.339\n",
      "Microsoft    -44.4945      6.306     -7.056      0.000     -56.896     -32.093\n",
      "==============================================================================\n",
      "Omnibus:                       31.929   Durbin-Watson:                   1.401\n",
      "Prob(Omnibus):                  0.000   Jarque-Bera (JB):               61.451\n",
      "Skew:                           0.506   Prob(JB):                     4.53e-14\n",
      "Kurtosis:                       4.737   Cond. No.                     2.22e+04\n",
      "==============================================================================\n",
      "\n",
      "Notes:\n",
      "[1] Standard Errors assume that the covariance matrix of the errors is correctly specified.\n",
      "[2] The condition number is large, 2.22e+04. This might indicate that there are\n",
      "strong multicollinearity or other numerical problems.\n"
     ]
    }
   ],
   "source": [
    "lm_day_model = sm.ols(formula=\"Revenue~FacebookBA+\"\n",
    "                          \"FacebookSA+\"\n",
    "                          \"PinBW+\"\n",
    "                          \"Google+\"\n",
    "                          \"Microsoft\", data=df_2021).fit()\n",
    "print(lm_day_model.summary())"
   ]
  },
  {
   "cell_type": "markdown",
   "id": "97d4d677",
   "metadata": {},
   "source": [
    "### Multicollinearity Test\n",
    "\n",
    "VIF and multicollinearity->https://www.analyticsvidhya.com/blog/2020/03/what-is-multicollinearity/"
   ]
  },
  {
   "cell_type": "code",
   "execution_count": 55,
   "id": "f925149d",
   "metadata": {},
   "outputs": [
    {
     "data": {
      "text/html": [
       "<div>\n",
       "<style scoped>\n",
       "    .dataframe tbody tr th:only-of-type {\n",
       "        vertical-align: middle;\n",
       "    }\n",
       "\n",
       "    .dataframe tbody tr th {\n",
       "        vertical-align: top;\n",
       "    }\n",
       "\n",
       "    .dataframe thead th {\n",
       "        text-align: right;\n",
       "    }\n",
       "</style>\n",
       "<table border=\"1\" class=\"dataframe\">\n",
       "  <thead>\n",
       "    <tr style=\"text-align: right;\">\n",
       "      <th></th>\n",
       "      <th>VIF</th>\n",
       "      <th>variable</th>\n",
       "    </tr>\n",
       "  </thead>\n",
       "  <tbody>\n",
       "    <tr>\n",
       "      <th>0</th>\n",
       "      <td>39.321748</td>\n",
       "      <td>Intercept</td>\n",
       "    </tr>\n",
       "    <tr>\n",
       "      <th>1</th>\n",
       "      <td>1.146241</td>\n",
       "      <td>FacebookBA</td>\n",
       "    </tr>\n",
       "    <tr>\n",
       "      <th>2</th>\n",
       "      <td>1.734936</td>\n",
       "      <td>FacebookSA</td>\n",
       "    </tr>\n",
       "    <tr>\n",
       "      <th>3</th>\n",
       "      <td>1.054169</td>\n",
       "      <td>PinBW</td>\n",
       "    </tr>\n",
       "    <tr>\n",
       "      <th>4</th>\n",
       "      <td>1.825708</td>\n",
       "      <td>Google</td>\n",
       "    </tr>\n",
       "    <tr>\n",
       "      <th>5</th>\n",
       "      <td>1.558182</td>\n",
       "      <td>Microsoft</td>\n",
       "    </tr>\n",
       "  </tbody>\n",
       "</table>\n",
       "</div>"
      ],
      "text/plain": [
       "         VIF    variable\n",
       "0  39.321748   Intercept\n",
       "1   1.146241  FacebookBA\n",
       "2   1.734936  FacebookSA\n",
       "3   1.054169       PinBW\n",
       "4   1.825708      Google\n",
       "5   1.558182   Microsoft"
      ]
     },
     "execution_count": 55,
     "metadata": {},
     "output_type": "execute_result"
    }
   ],
   "source": [
    "y, X = dmatrices(\"Revenue~FacebookBA+FacebookSA+PinBW+Google+Microsoft\", df_2021.rename(columns={\n",
    "        \"Facebook BA\":'FacebookBA', 'Facebook SA':'FacebookSA', 'Pin BW': \"PinBW\"\n",
    "}), return_type='dataframe')\n",
    "vif = pd.DataFrame()\n",
    "vif['VIF'] = [variance_inflation_factor(X.values, i) for i in range(X.shape[1])]\n",
    "vif['variable'] = X.columns\n",
    "vif"
   ]
  },
  {
   "cell_type": "markdown",
   "id": "54a1fc53",
   "metadata": {},
   "source": [
    "VIF starts at 1 and has no upper limit VIF = 1, no correlation between the independent variable and the other variables VIF exceeding 5 or 10 indicates high multicollinearity between this independent variable and the others"
   ]
  },
  {
   "cell_type": "markdown",
   "id": "feb7588a",
   "metadata": {},
   "source": [
    "### Predictions for the Daily Model"
   ]
  },
  {
   "cell_type": "markdown",
   "id": "aa593d88",
   "metadata": {},
   "source": [
    "2021 Predictions:"
   ]
  },
  {
   "cell_type": "code",
   "execution_count": 56,
   "id": "ce58a7a9",
   "metadata": {},
   "outputs": [
    {
     "data": {
      "text/html": [
       "<div>\n",
       "<style scoped>\n",
       "    .dataframe tbody tr th:only-of-type {\n",
       "        vertical-align: middle;\n",
       "    }\n",
       "\n",
       "    .dataframe tbody tr th {\n",
       "        vertical-align: top;\n",
       "    }\n",
       "\n",
       "    .dataframe thead th {\n",
       "        text-align: right;\n",
       "    }\n",
       "</style>\n",
       "<table border=\"1\" class=\"dataframe\">\n",
       "  <thead>\n",
       "    <tr style=\"text-align: right;\">\n",
       "      <th></th>\n",
       "      <th>Predictions</th>\n",
       "      <th>Revenue</th>\n",
       "      <th>ErrorAbs</th>\n",
       "    </tr>\n",
       "    <tr>\n",
       "      <th>Date</th>\n",
       "      <th></th>\n",
       "      <th></th>\n",
       "      <th></th>\n",
       "    </tr>\n",
       "  </thead>\n",
       "  <tbody>\n",
       "    <tr>\n",
       "      <th>2021-01-01</th>\n",
       "      <td>65341.207015</td>\n",
       "      <td>82921.55</td>\n",
       "      <td>17580.342985</td>\n",
       "    </tr>\n",
       "    <tr>\n",
       "      <th>2021-01-02</th>\n",
       "      <td>74645.811183</td>\n",
       "      <td>60075.61</td>\n",
       "      <td>14570.201183</td>\n",
       "    </tr>\n",
       "    <tr>\n",
       "      <th>2021-01-03</th>\n",
       "      <td>71508.748619</td>\n",
       "      <td>56313.61</td>\n",
       "      <td>15195.138619</td>\n",
       "    </tr>\n",
       "    <tr>\n",
       "      <th>2021-01-04</th>\n",
       "      <td>54823.655276</td>\n",
       "      <td>49477.05</td>\n",
       "      <td>5346.605276</td>\n",
       "    </tr>\n",
       "    <tr>\n",
       "      <th>2021-01-05</th>\n",
       "      <td>51040.069902</td>\n",
       "      <td>47978.61</td>\n",
       "      <td>3061.459902</td>\n",
       "    </tr>\n",
       "  </tbody>\n",
       "</table>\n",
       "</div>"
      ],
      "text/plain": [
       "             Predictions   Revenue      ErrorAbs\n",
       "Date                                            \n",
       "2021-01-01  65341.207015  82921.55  17580.342985\n",
       "2021-01-02  74645.811183  60075.61  14570.201183\n",
       "2021-01-03  71508.748619  56313.61  15195.138619\n",
       "2021-01-04  54823.655276  49477.05   5346.605276\n",
       "2021-01-05  51040.069902  47978.61   3061.459902"
      ]
     },
     "execution_count": 56,
     "metadata": {},
     "output_type": "execute_result"
    }
   ],
   "source": [
    "predictions_daily = pd.DataFrame({\n",
    "    'Predictions':lm_day_model.predict(df_2021[['FacebookBA','FacebookSA','PinBW','Google','Microsoft']]),\n",
    "    'Revenue': df_2021['Revenue'],\n",
    "    'Date': df_2021['Date']\n",
    "})\n",
    "predictions_daily['ErrorAbs'] = abs(predictions_daily['Predictions'] - predictions_daily['Revenue'])\n",
    "predictions_daily= predictions_daily.set_index('Date')\n",
    "predictions_daily.head()"
   ]
  },
  {
   "cell_type": "markdown",
   "id": "8f2a882d",
   "metadata": {},
   "source": [
    "MAE and MAPE for Daily Predictions"
   ]
  },
  {
   "cell_type": "code",
   "execution_count": 57,
   "id": "ee7ed53e",
   "metadata": {},
   "outputs": [
    {
     "data": {
      "text/plain": [
       "131190494.55135688"
      ]
     },
     "execution_count": 57,
     "metadata": {},
     "output_type": "execute_result"
    }
   ],
   "source": [
    "mse(predictions_daily['Predictions'], predictions_daily['Revenue'])"
   ]
  },
  {
   "cell_type": "code",
   "execution_count": 58,
   "id": "3628a469",
   "metadata": {},
   "outputs": [
    {
     "data": {
      "text/plain": [
       "0.21463962702699863"
      ]
     },
     "execution_count": 58,
     "metadata": {},
     "output_type": "execute_result"
    }
   ],
   "source": [
    "mape(predictions_daily['Predictions'], predictions_daily['Revenue'])"
   ]
  },
  {
   "cell_type": "code",
   "execution_count": 59,
   "id": "9b209ca9",
   "metadata": {},
   "outputs": [
    {
     "data": {
      "text/plain": [
       "8826.468973005172"
      ]
     },
     "execution_count": 59,
     "metadata": {},
     "output_type": "execute_result"
    }
   ],
   "source": [
    "np.mean(predictions_daily['ErrorAbs'])"
   ]
  },
  {
   "cell_type": "code",
   "execution_count": 60,
   "id": "b1134424",
   "metadata": {},
   "outputs": [
    {
     "data": {
      "image/png": "[encoded data removed]",
      "text/plain": [
       "<Figure size 800x400 with 1 Axes>"
      ]
     },
     "metadata": {
      "needs_background": "light"
     },
     "output_type": "display_data"
    }
   ],
   "source": [
    "figure(figsize=(10, 5), dpi=80)\n",
    "plt.plot(predictions_daily[\"Revenue\"], marker='o')\n",
    "plt.plot(predictions_daily[\"Predictions\"], marker='+')\n",
    "\n",
    "# Labelling\n",
    "plt.xlabel(\"Date\")\n",
    "plt.ylabel(\"Revenue\")\n",
    "plt.title(\"MMM Daily Revenue 2021 Projection\")\n",
    "plt.legend(['Real Revenue', 'Predictions'])\n",
    "# Display\n",
    "\n",
    "plt.show()"
   ]
  },
  {
   "cell_type": "markdown",
   "id": "169fe1bb",
   "metadata": {},
   "source": [
    "2022:"
   ]
  },
  {
   "cell_type": "code",
   "execution_count": 61,
   "id": "e6c9c9b4",
   "metadata": {},
   "outputs": [
    {
     "data": {
      "text/html": [
       "<div>\n",
       "<style scoped>\n",
       "    .dataframe tbody tr th:only-of-type {\n",
       "        vertical-align: middle;\n",
       "    }\n",
       "\n",
       "    .dataframe tbody tr th {\n",
       "        vertical-align: top;\n",
       "    }\n",
       "\n",
       "    .dataframe thead th {\n",
       "        text-align: right;\n",
       "    }\n",
       "</style>\n",
       "<table border=\"1\" class=\"dataframe\">\n",
       "  <thead>\n",
       "    <tr style=\"text-align: right;\">\n",
       "      <th></th>\n",
       "      <th>Predictions</th>\n",
       "      <th>Revenue</th>\n",
       "      <th>ErrorAbs</th>\n",
       "    </tr>\n",
       "    <tr>\n",
       "      <th>Date</th>\n",
       "      <th></th>\n",
       "      <th></th>\n",
       "      <th></th>\n",
       "    </tr>\n",
       "  </thead>\n",
       "  <tbody>\n",
       "    <tr>\n",
       "      <th>2022-01-01</th>\n",
       "      <td>47464.627597</td>\n",
       "      <td>32271.54</td>\n",
       "      <td>15193.087597</td>\n",
       "    </tr>\n",
       "    <tr>\n",
       "      <th>2022-01-02</th>\n",
       "      <td>58590.628204</td>\n",
       "      <td>73789.41</td>\n",
       "      <td>15198.781796</td>\n",
       "    </tr>\n",
       "    <tr>\n",
       "      <th>2022-01-03</th>\n",
       "      <td>57629.945234</td>\n",
       "      <td>61028.44</td>\n",
       "      <td>3398.494766</td>\n",
       "    </tr>\n",
       "    <tr>\n",
       "      <th>2022-01-04</th>\n",
       "      <td>44055.446772</td>\n",
       "      <td>39671.79</td>\n",
       "      <td>4383.656772</td>\n",
       "    </tr>\n",
       "    <tr>\n",
       "      <th>2022-01-05</th>\n",
       "      <td>44661.405506</td>\n",
       "      <td>30045.22</td>\n",
       "      <td>14616.185506</td>\n",
       "    </tr>\n",
       "  </tbody>\n",
       "</table>\n",
       "</div>"
      ],
      "text/plain": [
       "             Predictions   Revenue      ErrorAbs\n",
       "Date                                            \n",
       "2022-01-01  47464.627597  32271.54  15193.087597\n",
       "2022-01-02  58590.628204  73789.41  15198.781796\n",
       "2022-01-03  57629.945234  61028.44   3398.494766\n",
       "2022-01-04  44055.446772  39671.79   4383.656772\n",
       "2022-01-05  44661.405506  30045.22  14616.185506"
      ]
     },
     "execution_count": 61,
     "metadata": {},
     "output_type": "execute_result"
    }
   ],
   "source": [
    "df_2022=df[df['Year']==2022].rename(columns={\n",
    "   \"Facebook BA\":'FacebookBA', 'Facebook SA':'FacebookSA', 'Pin BW': \"PinBW\"\n",
    "}).reset_index(drop=True)\n",
    "predictions_daily = pd.DataFrame({\n",
    "    'Predictions':lm_day_model.predict(df_2022[['FacebookBA','FacebookSA','PinBW','Google','Microsoft']]),\n",
    "    'Revenue': df_2022['Revenue'],\n",
    "    'Date': df_2022['Date']\n",
    "})\n",
    "predictions_daily['ErrorAbs'] = abs(predictions_daily['Predictions'] - predictions_daily['Revenue'])\n",
    "predictions_daily= predictions_daily.set_index('Date')\n",
    "predictions_daily.head()"
   ]
  },
  {
   "cell_type": "code",
   "execution_count": 62,
   "id": "a7367b56",
   "metadata": {},
   "outputs": [],
   "source": [
    "predictions_daily.to_csv('A_Daily_2022_predvact.csv')"
   ]
  },
  {
   "cell_type": "code",
   "execution_count": 63,
   "id": "be0c6daf",
   "metadata": {},
   "outputs": [
    {
     "data": {
      "text/plain": [
       "269984463.4466691"
      ]
     },
     "execution_count": 63,
     "metadata": {},
     "output_type": "execute_result"
    }
   ],
   "source": [
    "mse(predictions_daily['Predictions'], predictions_daily['Revenue'])"
   ]
  },
  {
   "cell_type": "code",
   "execution_count": 64,
   "id": "9213ec25",
   "metadata": {},
   "outputs": [
    {
     "data": {
      "text/plain": [
       "0.4447303151928267"
      ]
     },
     "execution_count": 64,
     "metadata": {},
     "output_type": "execute_result"
    }
   ],
   "source": [
    "mape(predictions_daily['Predictions'], predictions_daily['Revenue'])"
   ]
  },
  {
   "cell_type": "code",
   "execution_count": 65,
   "id": "fff7108a",
   "metadata": {},
   "outputs": [
    {
     "data": {
      "text/plain": [
       "13958.313448847783"
      ]
     },
     "execution_count": 65,
     "metadata": {},
     "output_type": "execute_result"
    }
   ],
   "source": [
    "np.mean(predictions_daily['ErrorAbs'])"
   ]
  },
  {
   "cell_type": "code",
   "execution_count": 66,
   "id": "1257ae6d",
   "metadata": {},
   "outputs": [
    {
     "data": {
      "image/png": "[encoded data removed]",
      "text/plain": [
       "<Figure size 800x400 with 1 Axes>"
      ]
     },
     "metadata": {
      "needs_background": "light"
     },
     "output_type": "display_data"
    }
   ],
   "source": [
    "figure(figsize=(10, 5), dpi=80)\n",
    "plt.plot(predictions_daily[\"Revenue\"], marker='o')\n",
    "plt.plot(predictions_daily[\"Predictions\"], marker='+')\n",
    "\n",
    "# Labelling\n",
    "plt.xlabel(\"Date\")\n",
    "plt.ylabel(\"Revenue\")\n",
    "plt.title(\"MMM Daily Revenue 2022 Projection\")\n",
    "plt.legend(['Real Revenue', 'Predictions'])\n",
    "\n",
    "# Display\n",
    "plt.show()"
   ]
  },
  {
   "cell_type": "markdown",
   "id": "be254921",
   "metadata": {},
   "source": [
    "### Predictions for the Weekly Model"
   ]
  },
  {
   "cell_type": "markdown",
   "id": "4aa00286",
   "metadata": {},
   "source": [
    "Transforming 2021 data to be Weekly:"
   ]
  },
  {
   "cell_type": "code",
   "execution_count": 67,
   "id": "218942e8",
   "metadata": {},
   "outputs": [
    {
     "data": {
      "text/html": [
       "<div>\n",
       "<style scoped>\n",
       "    .dataframe tbody tr th:only-of-type {\n",
       "        vertical-align: middle;\n",
       "    }\n",
       "\n",
       "    .dataframe tbody tr th {\n",
       "        vertical-align: top;\n",
       "    }\n",
       "\n",
       "    .dataframe thead th {\n",
       "        text-align: right;\n",
       "    }\n",
       "</style>\n",
       "<table border=\"1\" class=\"dataframe\">\n",
       "  <thead>\n",
       "    <tr style=\"text-align: right;\">\n",
       "      <th></th>\n",
       "      <th>Revenue</th>\n",
       "      <th>FacebookBA</th>\n",
       "      <th>FacebookSA</th>\n",
       "      <th>PinBW</th>\n",
       "      <th>Google</th>\n",
       "      <th>Microsoft</th>\n",
       "      <th>WeekNumber</th>\n",
       "    </tr>\n",
       "  </thead>\n",
       "  <tbody>\n",
       "    <tr>\n",
       "      <th>46</th>\n",
       "      <td>360193.41</td>\n",
       "      <td>1188.61</td>\n",
       "      <td>2201.77</td>\n",
       "      <td>3718.188014</td>\n",
       "      <td>28284.07</td>\n",
       "      <td>1387.85</td>\n",
       "      <td>47</td>\n",
       "    </tr>\n",
       "    <tr>\n",
       "      <th>47</th>\n",
       "      <td>275028.98</td>\n",
       "      <td>2297.38</td>\n",
       "      <td>2571.77</td>\n",
       "      <td>3210.860889</td>\n",
       "      <td>31544.68</td>\n",
       "      <td>1021.66</td>\n",
       "      <td>48</td>\n",
       "    </tr>\n",
       "    <tr>\n",
       "      <th>48</th>\n",
       "      <td>209791.32</td>\n",
       "      <td>1952.58</td>\n",
       "      <td>1486.15</td>\n",
       "      <td>2919.837385</td>\n",
       "      <td>35812.88</td>\n",
       "      <td>3611.94</td>\n",
       "      <td>49</td>\n",
       "    </tr>\n",
       "    <tr>\n",
       "      <th>49</th>\n",
       "      <td>143477.52</td>\n",
       "      <td>2133.49</td>\n",
       "      <td>1873.36</td>\n",
       "      <td>3139.687874</td>\n",
       "      <td>29803.69</td>\n",
       "      <td>3659.35</td>\n",
       "      <td>50</td>\n",
       "    </tr>\n",
       "    <tr>\n",
       "      <th>50</th>\n",
       "      <td>118815.53</td>\n",
       "      <td>2136.66</td>\n",
       "      <td>1864.16</td>\n",
       "      <td>2831.473799</td>\n",
       "      <td>21242.19</td>\n",
       "      <td>3537.94</td>\n",
       "      <td>51</td>\n",
       "    </tr>\n",
       "  </tbody>\n",
       "</table>\n",
       "</div>"
      ],
      "text/plain": [
       "      Revenue  FacebookBA  FacebookSA        PinBW    Google  Microsoft  \\\n",
       "46  360193.41     1188.61     2201.77  3718.188014  28284.07    1387.85   \n",
       "47  275028.98     2297.38     2571.77  3210.860889  31544.68    1021.66   \n",
       "48  209791.32     1952.58     1486.15  2919.837385  35812.88    3611.94   \n",
       "49  143477.52     2133.49     1873.36  3139.687874  29803.69    3659.35   \n",
       "50  118815.53     2136.66     1864.16  2831.473799  21242.19    3537.94   \n",
       "\n",
       "    WeekNumber  \n",
       "46          47  \n",
       "47          48  \n",
       "48          49  \n",
       "49          50  \n",
       "50          51  "
      ]
     },
     "execution_count": 67,
     "metadata": {},
     "output_type": "execute_result"
    }
   ],
   "source": [
    "df_2021_week=df_2021[['Revenue', 'FacebookBA','FacebookSA','PinBW','Google','Microsoft', 'WeekNumber']]\n",
    "df_2021_week=df_2021_week[df_2021_week['WeekNumber'] < 52].groupby('WeekNumber').agg([sum])\n",
    "df_2021_week =  df_2021_week[['Revenue', 'FacebookBA','FacebookSA','PinBW','Google','Microsoft']].reset_index(drop=True).T.reset_index(drop=True).T.rename(columns={\n",
    "    0: 'Revenue',\n",
    "    1: 'FacebookBA',\n",
    "    2: 'FacebookSA',\n",
    "    3: 'PinBW',\n",
    "    4: 'Google',\n",
    "    5: 'Microsoft',\n",
    "})\n",
    "df_2021_week['WeekNumber']=df_2021[df_2021['WeekNumber'] < 52].groupby('WeekNumber').count().reset_index()['WeekNumber']\n",
    "df_2021_week.tail()"
   ]
  },
  {
   "cell_type": "markdown",
   "id": "646e2f51",
   "metadata": {},
   "source": [
    "2022 Data"
   ]
  },
  {
   "cell_type": "code",
   "execution_count": 68,
   "id": "0c2ffbf0",
   "metadata": {},
   "outputs": [
    {
     "data": {
      "text/html": [
       "<div>\n",
       "<style scoped>\n",
       "    .dataframe tbody tr th:only-of-type {\n",
       "        vertical-align: middle;\n",
       "    }\n",
       "\n",
       "    .dataframe tbody tr th {\n",
       "        vertical-align: top;\n",
       "    }\n",
       "\n",
       "    .dataframe thead th {\n",
       "        text-align: right;\n",
       "    }\n",
       "</style>\n",
       "<table border=\"1\" class=\"dataframe\">\n",
       "  <thead>\n",
       "    <tr style=\"text-align: right;\">\n",
       "      <th></th>\n",
       "      <th>Revenue</th>\n",
       "      <th>FacebookBA</th>\n",
       "      <th>FacebookSA</th>\n",
       "      <th>PinBW</th>\n",
       "      <th>Google</th>\n",
       "      <th>Microsoft</th>\n",
       "      <th>WeekNumber</th>\n",
       "    </tr>\n",
       "  </thead>\n",
       "  <tbody>\n",
       "    <tr>\n",
       "      <th>0</th>\n",
       "      <td>299797.08</td>\n",
       "      <td>2130.44</td>\n",
       "      <td>2169.56</td>\n",
       "      <td>3419.610575</td>\n",
       "      <td>32875.79</td>\n",
       "      <td>1914.89</td>\n",
       "      <td>1</td>\n",
       "    </tr>\n",
       "    <tr>\n",
       "      <th>1</th>\n",
       "      <td>222872.89</td>\n",
       "      <td>2136.93</td>\n",
       "      <td>2168.55</td>\n",
       "      <td>3641.440180</td>\n",
       "      <td>23180.93</td>\n",
       "      <td>1507.94</td>\n",
       "      <td>2</td>\n",
       "    </tr>\n",
       "    <tr>\n",
       "      <th>2</th>\n",
       "      <td>221343.25</td>\n",
       "      <td>2136.50</td>\n",
       "      <td>2171.22</td>\n",
       "      <td>3432.681367</td>\n",
       "      <td>32360.87</td>\n",
       "      <td>902.44</td>\n",
       "      <td>3</td>\n",
       "    </tr>\n",
       "    <tr>\n",
       "      <th>3</th>\n",
       "      <td>250742.93</td>\n",
       "      <td>2135.39</td>\n",
       "      <td>2169.42</td>\n",
       "      <td>4033.711087</td>\n",
       "      <td>32357.33</td>\n",
       "      <td>2022.12</td>\n",
       "      <td>4</td>\n",
       "    </tr>\n",
       "    <tr>\n",
       "      <th>4</th>\n",
       "      <td>223140.41</td>\n",
       "      <td>2136.42</td>\n",
       "      <td>2171.94</td>\n",
       "      <td>4130.344042</td>\n",
       "      <td>34051.69</td>\n",
       "      <td>1994.14</td>\n",
       "      <td>5</td>\n",
       "    </tr>\n",
       "  </tbody>\n",
       "</table>\n",
       "</div>"
      ],
      "text/plain": [
       "     Revenue  FacebookBA  FacebookSA        PinBW    Google  Microsoft  \\\n",
       "0  299797.08     2130.44     2169.56  3419.610575  32875.79    1914.89   \n",
       "1  222872.89     2136.93     2168.55  3641.440180  23180.93    1507.94   \n",
       "2  221343.25     2136.50     2171.22  3432.681367  32360.87     902.44   \n",
       "3  250742.93     2135.39     2169.42  4033.711087  32357.33    2022.12   \n",
       "4  223140.41     2136.42     2171.94  4130.344042  34051.69    1994.14   \n",
       "\n",
       "   WeekNumber  \n",
       "0           1  \n",
       "1           2  \n",
       "2           3  \n",
       "3           4  \n",
       "4           5  "
      ]
     },
     "execution_count": 68,
     "metadata": {},
     "output_type": "execute_result"
    }
   ],
   "source": [
    "df_2022_week=df_2022[['Revenue', 'FacebookBA','FacebookSA','PinBW','Google','Microsoft', 'WeekNumber']]\n",
    "df_2022_week=df_2022_week[df_2022_week['WeekNumber'] < 52].groupby('WeekNumber').agg([sum])\n",
    "df_2022_week =  df_2022_week[['Revenue', 'FacebookBA','FacebookSA','PinBW','Google','Microsoft']].reset_index(drop=True).T.reset_index(drop=True).T.rename(columns={\n",
    "    0: 'Revenue',\n",
    "    1: 'FacebookBA',\n",
    "    2: 'FacebookSA',\n",
    "    3: 'PinBW',\n",
    "    4: 'Google',\n",
    "    5: 'Microsoft'\n",
    "})\n",
    "df_2022_week['WeekNumber']=df_2022[df_2022['WeekNumber'] < 52].groupby('WeekNumber').count().reset_index()['WeekNumber']\n",
    "df_2022_week.head()"
   ]
  },
  {
   "cell_type": "markdown",
   "id": "0f811182",
   "metadata": {},
   "source": [
    "Fitting the model"
   ]
  },
  {
   "cell_type": "code",
   "execution_count": 69,
   "id": "f1411c45",
   "metadata": {},
   "outputs": [
    {
     "name": "stdout",
     "output_type": "stream",
     "text": [
      "                            OLS Regression Results                            \n",
      "==============================================================================\n",
      "Dep. Variable:                Revenue   R-squared:                       0.904\n",
      "Model:                            OLS   Adj. R-squared:                  0.894\n",
      "Method:                 Least Squares   F-statistic:                     84.96\n",
      "Date:                Wed, 20 Jul 2022   Prob (F-statistic):           9.05e-22\n",
      "Time:                        11:56:43   Log-Likelihood:                -614.25\n",
      "No. Observations:                  51   AIC:                             1240.\n",
      "Df Residuals:                      45   BIC:                             1252.\n",
      "Df Model:                           5                                         \n",
      "Covariance Type:            nonrobust                                         \n",
      "==============================================================================\n",
      "                 coef    std err          t      P>|t|      [0.025      0.975]\n",
      "------------------------------------------------------------------------------\n",
      "Intercept   1.371e+05   4.81e+04      2.850      0.007    4.02e+04    2.34e+05\n",
      "FacebookBA   -18.0943     19.517     -0.927      0.359     -57.404      21.216\n",
      "FacebookSA    25.7871      3.951      6.527      0.000      17.829      33.745\n",
      "PinBW        -11.1286      5.052     -2.203      0.033     -21.305      -0.953\n",
      "Google         9.0887      1.000      9.091      0.000       7.075      11.102\n",
      "Microsoft    -49.9084     10.700     -4.664      0.000     -71.460     -28.357\n",
      "==============================================================================\n",
      "Omnibus:                        1.338   Durbin-Watson:                   1.633\n",
      "Prob(Omnibus):                  0.512   Jarque-Bera (JB):                1.266\n",
      "Skew:                          -0.255   Prob(JB):                        0.531\n",
      "Kurtosis:                       2.420   Cond. No.                     1.88e+05\n",
      "==============================================================================\n",
      "\n",
      "Notes:\n",
      "[1] Standard Errors assume that the covariance matrix of the errors is correctly specified.\n",
      "[2] The condition number is large, 1.88e+05. This might indicate that there are\n",
      "strong multicollinearity or other numerical problems.\n"
     ]
    }
   ],
   "source": [
    "lm_week_model = sm.ols(formula=\"Revenue~FacebookBA+\"\n",
    "                          \"FacebookSA+\"\n",
    "                          \"PinBW+\"\n",
    "                          \"Google+\"\n",
    "                          \"Microsoft\", data=df_2021_week).fit()\n",
    "print(lm_week_model.summary())"
   ]
  },
  {
   "cell_type": "markdown",
   "id": "343c0310",
   "metadata": {},
   "source": [
    "### Multicollinearity Test"
   ]
  },
  {
   "cell_type": "code",
   "execution_count": 70,
   "id": "ae1b8dc2",
   "metadata": {},
   "outputs": [
    {
     "data": {
      "text/html": [
       "<div>\n",
       "<style scoped>\n",
       "    .dataframe tbody tr th:only-of-type {\n",
       "        vertical-align: middle;\n",
       "    }\n",
       "\n",
       "    .dataframe tbody tr th {\n",
       "        vertical-align: top;\n",
       "    }\n",
       "\n",
       "    .dataframe thead th {\n",
       "        text-align: right;\n",
       "    }\n",
       "</style>\n",
       "<table border=\"1\" class=\"dataframe\">\n",
       "  <thead>\n",
       "    <tr style=\"text-align: right;\">\n",
       "      <th></th>\n",
       "      <th>VIF</th>\n",
       "      <th>variable</th>\n",
       "    </tr>\n",
       "  </thead>\n",
       "  <tbody>\n",
       "    <tr>\n",
       "      <th>0</th>\n",
       "      <td>61.494710</td>\n",
       "      <td>Intercept</td>\n",
       "    </tr>\n",
       "    <tr>\n",
       "      <th>1</th>\n",
       "      <td>1.228323</td>\n",
       "      <td>FacebookBA</td>\n",
       "    </tr>\n",
       "    <tr>\n",
       "      <th>2</th>\n",
       "      <td>2.138335</td>\n",
       "      <td>FacebookSA</td>\n",
       "    </tr>\n",
       "    <tr>\n",
       "      <th>3</th>\n",
       "      <td>1.103752</td>\n",
       "      <td>PinBW</td>\n",
       "    </tr>\n",
       "    <tr>\n",
       "      <th>4</th>\n",
       "      <td>2.265970</td>\n",
       "      <td>Google</td>\n",
       "    </tr>\n",
       "    <tr>\n",
       "      <th>5</th>\n",
       "      <td>1.667579</td>\n",
       "      <td>Microsoft</td>\n",
       "    </tr>\n",
       "  </tbody>\n",
       "</table>\n",
       "</div>"
      ],
      "text/plain": [
       "         VIF    variable\n",
       "0  61.494710   Intercept\n",
       "1   1.228323  FacebookBA\n",
       "2   2.138335  FacebookSA\n",
       "3   1.103752       PinBW\n",
       "4   2.265970      Google\n",
       "5   1.667579   Microsoft"
      ]
     },
     "execution_count": 70,
     "metadata": {},
     "output_type": "execute_result"
    }
   ],
   "source": [
    "y, X = dmatrices(\"Revenue~FacebookBA+FacebookSA+PinBW+Google+Microsoft\", df_2021_week, return_type='dataframe')\n",
    "vif = pd.DataFrame()\n",
    "vif['VIF'] = [variance_inflation_factor(X.values, i) for i in range(X.shape[1])]\n",
    "vif['variable'] = X.columns\n",
    "vif"
   ]
  },
  {
   "cell_type": "markdown",
   "id": "e846e98d",
   "metadata": {},
   "source": [
    "2021:"
   ]
  },
  {
   "cell_type": "code",
   "execution_count": 71,
   "id": "3e476ce6",
   "metadata": {},
   "outputs": [
    {
     "data": {
      "text/html": [
       "<div>\n",
       "<style scoped>\n",
       "    .dataframe tbody tr th:only-of-type {\n",
       "        vertical-align: middle;\n",
       "    }\n",
       "\n",
       "    .dataframe tbody tr th {\n",
       "        vertical-align: top;\n",
       "    }\n",
       "\n",
       "    .dataframe thead th {\n",
       "        text-align: right;\n",
       "    }\n",
       "</style>\n",
       "<table border=\"1\" class=\"dataframe\">\n",
       "  <thead>\n",
       "    <tr style=\"text-align: right;\">\n",
       "      <th></th>\n",
       "      <th>Predictions</th>\n",
       "      <th>Revenue</th>\n",
       "      <th>WeekNumber</th>\n",
       "      <th>ErrorAbs</th>\n",
       "    </tr>\n",
       "  </thead>\n",
       "  <tbody>\n",
       "    <tr>\n",
       "      <th>0</th>\n",
       "      <td>399268.737382</td>\n",
       "      <td>411131.38</td>\n",
       "      <td>1</td>\n",
       "      <td>11862.642618</td>\n",
       "    </tr>\n",
       "    <tr>\n",
       "      <th>1</th>\n",
       "      <td>384071.176665</td>\n",
       "      <td>371195.14</td>\n",
       "      <td>2</td>\n",
       "      <td>12876.036665</td>\n",
       "    </tr>\n",
       "    <tr>\n",
       "      <th>2</th>\n",
       "      <td>331445.468162</td>\n",
       "      <td>372675.55</td>\n",
       "      <td>3</td>\n",
       "      <td>41230.081838</td>\n",
       "    </tr>\n",
       "    <tr>\n",
       "      <th>3</th>\n",
       "      <td>361258.181504</td>\n",
       "      <td>363654.21</td>\n",
       "      <td>4</td>\n",
       "      <td>2396.028496</td>\n",
       "    </tr>\n",
       "    <tr>\n",
       "      <th>4</th>\n",
       "      <td>392822.132943</td>\n",
       "      <td>392223.40</td>\n",
       "      <td>5</td>\n",
       "      <td>598.732943</td>\n",
       "    </tr>\n",
       "  </tbody>\n",
       "</table>\n",
       "</div>"
      ],
      "text/plain": [
       "     Predictions    Revenue  WeekNumber      ErrorAbs\n",
       "0  399268.737382  411131.38           1  11862.642618\n",
       "1  384071.176665  371195.14           2  12876.036665\n",
       "2  331445.468162  372675.55           3  41230.081838\n",
       "3  361258.181504  363654.21           4   2396.028496\n",
       "4  392822.132943  392223.40           5    598.732943"
      ]
     },
     "execution_count": 71,
     "metadata": {},
     "output_type": "execute_result"
    }
   ],
   "source": [
    "predictions_weekly = pd.DataFrame({\n",
    "    'Predictions':lm_week_model.predict(df_2021_week[['FacebookBA','FacebookSA','PinBW','Google','Microsoft']]),\n",
    "    'Revenue': df_2021_week['Revenue'],\n",
    "    'WeekNumber': df_2021_week['WeekNumber']\n",
    "})\n",
    "predictions_weekly['ErrorAbs'] = abs(predictions_weekly['Predictions'] - predictions_weekly['Revenue'])\n",
    "predictions_weekly.head()"
   ]
  },
  {
   "cell_type": "code",
   "execution_count": 72,
   "id": "f374e63c",
   "metadata": {},
   "outputs": [
    {
     "data": {
      "text/plain": [
       "1693733980.137973"
      ]
     },
     "execution_count": 72,
     "metadata": {},
     "output_type": "execute_result"
    }
   ],
   "source": [
    "mse(predictions_weekly['Predictions'], predictions_weekly['Revenue'])"
   ]
  },
  {
   "cell_type": "code",
   "execution_count": 73,
   "id": "29b3828b",
   "metadata": {},
   "outputs": [
    {
     "data": {
      "text/plain": [
       "0.12090634391303585"
      ]
     },
     "execution_count": 73,
     "metadata": {},
     "output_type": "execute_result"
    }
   ],
   "source": [
    "mape(predictions_weekly['Predictions'], predictions_weekly['Revenue'])\n"
   ]
  },
  {
   "cell_type": "code",
   "execution_count": 74,
   "id": "bbf76e61",
   "metadata": {},
   "outputs": [
    {
     "data": {
      "text/plain": [
       "33312.13895736347"
      ]
     },
     "execution_count": 74,
     "metadata": {},
     "output_type": "execute_result"
    }
   ],
   "source": [
    "np.mean(predictions_weekly['ErrorAbs'])"
   ]
  },
  {
   "cell_type": "code",
   "execution_count": 75,
   "id": "2cd1bdb3",
   "metadata": {},
   "outputs": [
    {
     "data": {
      "image/png": "[encoded data removed]",
      "text/plain": [
       "<Figure size 800x400 with 1 Axes>"
      ]
     },
     "metadata": {
      "needs_background": "light"
     },
     "output_type": "display_data"
    }
   ],
   "source": [
    "figure(figsize=(10, 5), dpi=80)\n",
    "plt.plot(predictions_weekly[\"Revenue\"], marker='o')\n",
    "plt.plot(predictions_weekly[\"Predictions\"], marker='+')\n",
    "\n",
    "# Labelling\n",
    "plt.xlabel(\"Date\")\n",
    "plt.ylabel(\"Revenue\")\n",
    "plt.title(\"MMM Weekly Revenue 2021 Projection\")\n",
    "plt.legend(['Real Revenue', 'Predictions'])\n",
    "# Display\n",
    "\n",
    "plt.show()"
   ]
  },
  {
   "cell_type": "markdown",
   "id": "2f089e2c",
   "metadata": {},
   "source": [
    "2022 Predictions "
   ]
  },
  {
   "cell_type": "code",
   "execution_count": 76,
   "id": "a133c803",
   "metadata": {},
   "outputs": [
    {
     "data": {
      "text/html": [
       "<div>\n",
       "<style scoped>\n",
       "    .dataframe tbody tr th:only-of-type {\n",
       "        vertical-align: middle;\n",
       "    }\n",
       "\n",
       "    .dataframe tbody tr th {\n",
       "        vertical-align: top;\n",
       "    }\n",
       "\n",
       "    .dataframe thead th {\n",
       "        text-align: right;\n",
       "    }\n",
       "</style>\n",
       "<table border=\"1\" class=\"dataframe\">\n",
       "  <thead>\n",
       "    <tr style=\"text-align: right;\">\n",
       "      <th></th>\n",
       "      <th>Predictions</th>\n",
       "      <th>Revenue</th>\n",
       "      <th>WeekNumber</th>\n",
       "      <th>ErrorAbs</th>\n",
       "    </tr>\n",
       "  </thead>\n",
       "  <tbody>\n",
       "    <tr>\n",
       "      <th>0</th>\n",
       "      <td>319697.214879</td>\n",
       "      <td>299797.08</td>\n",
       "      <td>1</td>\n",
       "      <td>19900.134879</td>\n",
       "    </tr>\n",
       "    <tr>\n",
       "      <th>1</th>\n",
       "      <td>249281.575905</td>\n",
       "      <td>222872.89</td>\n",
       "      <td>2</td>\n",
       "      <td>26408.685905</td>\n",
       "    </tr>\n",
       "    <tr>\n",
       "      <th>2</th>\n",
       "      <td>365334.750888</td>\n",
       "      <td>221343.25</td>\n",
       "      <td>3</td>\n",
       "      <td>143991.500888</td>\n",
       "    </tr>\n",
       "    <tr>\n",
       "      <th>3</th>\n",
       "      <td>302706.168944</td>\n",
       "      <td>250742.93</td>\n",
       "      <td>4</td>\n",
       "      <td>51963.238944</td>\n",
       "    </tr>\n",
       "    <tr>\n",
       "      <th>4</th>\n",
       "      <td>318473.111627</td>\n",
       "      <td>223140.41</td>\n",
       "      <td>5</td>\n",
       "      <td>95332.701627</td>\n",
       "    </tr>\n",
       "  </tbody>\n",
       "</table>\n",
       "</div>"
      ],
      "text/plain": [
       "     Predictions    Revenue  WeekNumber       ErrorAbs\n",
       "0  319697.214879  299797.08           1   19900.134879\n",
       "1  249281.575905  222872.89           2   26408.685905\n",
       "2  365334.750888  221343.25           3  143991.500888\n",
       "3  302706.168944  250742.93           4   51963.238944\n",
       "4  318473.111627  223140.41           5   95332.701627"
      ]
     },
     "execution_count": 76,
     "metadata": {},
     "output_type": "execute_result"
    }
   ],
   "source": [
    "predictions_weekly = pd.DataFrame({\n",
    "    'Predictions':lm_week_model.predict(df_2022_week[['FacebookBA','FacebookSA','PinBW','Google','Microsoft']]),\n",
    "    'Revenue': df_2022_week['Revenue'],\n",
    "    'WeekNumber': df_2022_week['WeekNumber']\n",
    "})\n",
    "predictions_weekly['ErrorAbs'] = abs(predictions_weekly['Predictions'] - predictions_weekly['Revenue'])\n",
    "predictions_weekly.head()"
   ]
  },
  {
   "cell_type": "code",
   "execution_count": 77,
   "id": "e52a9d0f",
   "metadata": {},
   "outputs": [],
   "source": [
    "predictions_weekly.to_csv('A_Weekly_2022_predvact.csv')"
   ]
  },
  {
   "cell_type": "code",
   "execution_count": 78,
   "id": "b0531ca8",
   "metadata": {},
   "outputs": [
    {
     "data": {
      "text/plain": [
       "7528981869.683287"
      ]
     },
     "execution_count": 78,
     "metadata": {},
     "output_type": "execute_result"
    }
   ],
   "source": [
    "mse(predictions_weekly['Predictions'], predictions_weekly['Revenue'])"
   ]
  },
  {
   "cell_type": "code",
   "execution_count": 79,
   "id": "b288f9a5",
   "metadata": {},
   "outputs": [
    {
     "data": {
      "text/plain": [
       "0.4054442986203009"
      ]
     },
     "execution_count": 79,
     "metadata": {},
     "output_type": "execute_result"
    }
   ],
   "source": [
    "mape(predictions_weekly['Predictions'], predictions_weekly['Revenue'])\n"
   ]
  },
  {
   "cell_type": "code",
   "execution_count": 80,
   "id": "f66431ed",
   "metadata": {},
   "outputs": [
    {
     "data": {
      "text/plain": [
       "75928.61977468364"
      ]
     },
     "execution_count": 80,
     "metadata": {},
     "output_type": "execute_result"
    }
   ],
   "source": [
    "np.mean(predictions_weekly['ErrorAbs'])"
   ]
  },
  {
   "cell_type": "code",
   "execution_count": 81,
   "id": "65e081e7",
   "metadata": {},
   "outputs": [
    {
     "data": {
      "image/png": "[encoded data removed]",
      "text/plain": [
       "<Figure size 800x400 with 1 Axes>"
      ]
     },
     "metadata": {
      "needs_background": "light"
     },
     "output_type": "display_data"
    }
   ],
   "source": [
    "figure(figsize=(10, 5), dpi=80)\n",
    "plt.plot(predictions_weekly[\"Revenue\"], marker='o')\n",
    "plt.plot(predictions_weekly[\"Predictions\"], marker='+')\n",
    "\n",
    "# Labelling\n",
    "plt.xlabel(\"Date\")\n",
    "plt.ylabel(\"Revenue\")\n",
    "plt.title(\"MMM Weekly Revenue 2022 Projection\")\n",
    "plt.legend(['Real Revenue', 'Predictions'])\n",
    "# Display\n",
    "\n",
    "plt.show()"
   ]
  },
  {
   "cell_type": "markdown",
   "id": "d70946b3",
   "metadata": {},
   "source": [
    "### Log Log Modelling "
   ]
  },
  {
   "cell_type": "code",
   "execution_count": 82,
   "id": "5d56b031",
   "metadata": {},
   "outputs": [],
   "source": [
    "def transform_log(x):\n",
    "    if x == 0:\n",
    "        x += 0.000001\n",
    "    return math.log(x)\n",
    "\n",
    "df_2021_log = df_2021_week.rename(columns={\n",
    "            \"Facebook BA\":'FacebookBA', 'Facebook SA':'FacebookSA', 'Pin BW': \"PinBW\"\n",
    "\n",
    "})\n",
    "for column in ['FacebookBA','FacebookSA','PinBW','Google','Microsoft',\"Revenue\"]:\n",
    "    df_2021_log['{}Log'.format(column)] = df_2021_log[column].apply(lambda x: transform_log(x))"
   ]
  },
  {
   "cell_type": "code",
   "execution_count": 83,
   "id": "c452def9",
   "metadata": {},
   "outputs": [
    {
     "name": "stdout",
     "output_type": "stream",
     "text": [
      "                            OLS Regression Results                            \n",
      "==============================================================================\n",
      "Dep. Variable:             RevenueLog   R-squared:                       0.780\n",
      "Model:                            OLS   Adj. R-squared:                  0.756\n",
      "Method:                 Least Squares   F-statistic:                     31.96\n",
      "Date:                Wed, 20 Jul 2022   Prob (F-statistic):           9.50e-14\n",
      "Time:                        11:56:47   Log-Likelihood:                 13.656\n",
      "No. Observations:                  51   AIC:                            -15.31\n",
      "Df Residuals:                      45   BIC:                            -3.720\n",
      "Df Model:                           5                                         \n",
      "Covariance Type:            nonrobust                                         \n",
      "=================================================================================\n",
      "                    coef    std err          t      P>|t|      [0.025      0.975]\n",
      "---------------------------------------------------------------------------------\n",
      "Intercept         6.5013      1.507      4.313      0.000       3.466       9.537\n",
      "FacebookBALog    -0.0758      0.172     -0.440      0.662      -0.422       0.271\n",
      "FacebookSALog     0.3327      0.065      5.138      0.000       0.202       0.463\n",
      "PinBWLog         -0.0859      0.050     -1.703      0.096      -0.188       0.016\n",
      "GoogleLog         0.5884      0.100      5.877      0.000       0.387       0.790\n",
      "MicrosoftLog     -0.1779      0.071     -2.494      0.016      -0.322      -0.034\n",
      "==============================================================================\n",
      "Omnibus:                        7.158   Durbin-Watson:                   1.197\n",
      "Prob(Omnibus):                  0.028   Jarque-Bera (JB):                6.120\n",
      "Skew:                          -0.762   Prob(JB):                       0.0469\n",
      "Kurtosis:                       3.747   Cond. No.                     1.00e+03\n",
      "==============================================================================\n",
      "\n",
      "Notes:\n",
      "[1] Standard Errors assume that the covariance matrix of the errors is correctly specified.\n",
      "[2] The condition number is large,  1e+03. This might indicate that there are\n",
      "strong multicollinearity or other numerical problems.\n"
     ]
    }
   ],
   "source": [
    "log_model = sm.ols(formula=\"RevenueLog~FacebookBALog+FacebookSALog+PinBWLog+GoogleLog+MicrosoftLog\", data=df_2021_log).fit()\n",
    "print(log_model.summary())"
   ]
  },
  {
   "cell_type": "markdown",
   "id": "7479e5d3",
   "metadata": {},
   "source": [
    "### Multicollinearity Test"
   ]
  },
  {
   "cell_type": "code",
   "execution_count": 84,
   "id": "e5db02af",
   "metadata": {},
   "outputs": [
    {
     "data": {
      "text/html": [
       "<div>\n",
       "<style scoped>\n",
       "    .dataframe tbody tr th:only-of-type {\n",
       "        vertical-align: middle;\n",
       "    }\n",
       "\n",
       "    .dataframe tbody tr th {\n",
       "        vertical-align: top;\n",
       "    }\n",
       "\n",
       "    .dataframe thead th {\n",
       "        text-align: right;\n",
       "    }\n",
       "</style>\n",
       "<table border=\"1\" class=\"dataframe\">\n",
       "  <thead>\n",
       "    <tr style=\"text-align: right;\">\n",
       "      <th></th>\n",
       "      <th>VIF</th>\n",
       "      <th>variable</th>\n",
       "    </tr>\n",
       "  </thead>\n",
       "  <tbody>\n",
       "    <tr>\n",
       "      <th>0</th>\n",
       "      <td>2982.930957</td>\n",
       "      <td>Intercept</td>\n",
       "    </tr>\n",
       "    <tr>\n",
       "      <th>1</th>\n",
       "      <td>1.139693</td>\n",
       "      <td>FacebookBALog</td>\n",
       "    </tr>\n",
       "    <tr>\n",
       "      <th>2</th>\n",
       "      <td>1.631647</td>\n",
       "      <td>FacebookSALog</td>\n",
       "    </tr>\n",
       "    <tr>\n",
       "      <th>3</th>\n",
       "      <td>1.098552</td>\n",
       "      <td>PinBWLog</td>\n",
       "    </tr>\n",
       "    <tr>\n",
       "      <th>4</th>\n",
       "      <td>2.357068</td>\n",
       "      <td>GoogleLog</td>\n",
       "    </tr>\n",
       "    <tr>\n",
       "      <th>5</th>\n",
       "      <td>2.077474</td>\n",
       "      <td>MicrosoftLog</td>\n",
       "    </tr>\n",
       "  </tbody>\n",
       "</table>\n",
       "</div>"
      ],
      "text/plain": [
       "           VIF       variable\n",
       "0  2982.930957      Intercept\n",
       "1     1.139693  FacebookBALog\n",
       "2     1.631647  FacebookSALog\n",
       "3     1.098552       PinBWLog\n",
       "4     2.357068      GoogleLog\n",
       "5     2.077474   MicrosoftLog"
      ]
     },
     "execution_count": 84,
     "metadata": {},
     "output_type": "execute_result"
    }
   ],
   "source": [
    "y, X = dmatrices(\"RevenueLog~FacebookBALog+FacebookSALog+PinBWLog+GoogleLog+MicrosoftLog\", df_2021_log, return_type='dataframe')\n",
    "vif = pd.DataFrame()\n",
    "vif['VIF'] = [variance_inflation_factor(X.values, i) for i in range(X.shape[1])]\n",
    "vif['variable'] = X.columns\n",
    "vif"
   ]
  },
  {
   "cell_type": "code",
   "execution_count": null,
   "id": "c58dd8f6",
   "metadata": {},
   "outputs": [],
   "source": []
  }
 ],
 "metadata": {
  "kernelspec": {
   "display_name": "Python 3 (ipykernel)",
   "language": "python",
   "name": "python3"
  },
  "language_info": {
   "codemirror_mode": {
    "name": "ipython",
    "version": 3
   },
   "file_extension": ".py",
   "mimetype": "text/x-python",
   "name": "python",
   "nbconvert_exporter": "python",
   "pygments_lexer": "ipython3",
   "version": "3.9.7"
  }
 },
 "nbformat": 4,
 "nbformat_minor": 5
}
